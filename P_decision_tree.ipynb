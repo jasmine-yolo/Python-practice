{
  "nbformat": 4,
  "nbformat_minor": 0,
  "metadata": {
    "colab": {
      "name": "P-decision tree.ipynb",
      "provenance": [],
      "machine_shape": "hm",
      "authorship_tag": "ABX9TyMcSQkfiPW+w3RIV0GqZ9n0",
      "include_colab_link": true
    },
    "kernelspec": {
      "name": "python3",
      "display_name": "Python 3"
    },
    "language_info": {
      "name": "python"
    }
  },
  "cells": [
    {
      "cell_type": "markdown",
      "metadata": {
        "id": "view-in-github",
        "colab_type": "text"
      },
      "source": [
        "<a href=\"https://colab.research.google.com/github/jasmine-yolo/Python-practice/blob/main/P_decision_tree.ipynb\" target=\"_parent\"><img src=\"https://colab.research.google.com/assets/colab-badge.svg\" alt=\"Open In Colab\"/></a>"
      ]
    },
    {
      "cell_type": "markdown",
      "source": [
        "# **decision tree**\n",
        "\n",
        "\n",
        "\n",
        "\n",
        "\n",
        "\n",
        "\n"
      ],
      "metadata": {
        "id": "BF5f8i4Nvt-h"
      }
    },
    {
      "cell_type": "code",
      "execution_count": 1,
      "metadata": {
        "id": "k8ju28bRlsTx"
      },
      "outputs": [],
      "source": [
        "import os\n",
        "import numpy as np\n",
        "import pandas as pd\n",
        "import tqdm\n",
        "import matplotlib.pyplot as plt\n",
        "from sklearn.linear_model import *\n",
        "from sklearn.tree import DecisionTreeRegressor\n",
        "from sklearn.model_selection import train_test_split, GridSearchCV, RandomizedSearchCV\n",
        "from sklearn.metrics import classification_report, confusion_matrix, accuracy_score, mean_squared_error, mean_absolute_error\n",
        "from sklearn.tree import export_graphviz\n",
        "import IPython, graphviz, re, math\n",
        "from sklearn.metrics import mean_squared_error as mse"
      ]
    },
    {
      "cell_type": "code",
      "source": [
        "#### calculate the feature importance by SHAP ####\n",
        "\n",
        "# install SHAP \n",
        "!pip install shap\n",
        "\n",
        "# import shap package\n",
        "import shap"
      ],
      "metadata": {
        "colab": {
          "base_uri": "https://localhost:8080/"
        },
        "id": "rLWsC7L-Q9oN",
        "outputId": "3ab253d6-e59c-4bad-8a99-0ff32c286867"
      },
      "execution_count": 37,
      "outputs": [
        {
          "output_type": "stream",
          "name": "stdout",
          "text": [
            "Collecting shap\n",
            "  Downloading shap-0.40.0-cp37-cp37m-manylinux2010_x86_64.whl (564 kB)\n",
            "\u001b[?25l\r\u001b[K     |▋                               | 10 kB 21.1 MB/s eta 0:00:01\r\u001b[K     |█▏                              | 20 kB 26.9 MB/s eta 0:00:01\r\u001b[K     |█▊                              | 30 kB 15.6 MB/s eta 0:00:01\r\u001b[K     |██▎                             | 40 kB 10.8 MB/s eta 0:00:01\r\u001b[K     |███                             | 51 kB 3.8 MB/s eta 0:00:01\r\u001b[K     |███▌                            | 61 kB 4.4 MB/s eta 0:00:01\r\u001b[K     |████                            | 71 kB 4.7 MB/s eta 0:00:01\r\u001b[K     |████▋                           | 81 kB 4.4 MB/s eta 0:00:01\r\u001b[K     |█████▏                          | 92 kB 4.9 MB/s eta 0:00:01\r\u001b[K     |█████▉                          | 102 kB 4.3 MB/s eta 0:00:01\r\u001b[K     |██████▍                         | 112 kB 4.3 MB/s eta 0:00:01\r\u001b[K     |███████                         | 122 kB 4.3 MB/s eta 0:00:01\r\u001b[K     |███████▌                        | 133 kB 4.3 MB/s eta 0:00:01\r\u001b[K     |████████▏                       | 143 kB 4.3 MB/s eta 0:00:01\r\u001b[K     |████████▊                       | 153 kB 4.3 MB/s eta 0:00:01\r\u001b[K     |█████████▎                      | 163 kB 4.3 MB/s eta 0:00:01\r\u001b[K     |█████████▉                      | 174 kB 4.3 MB/s eta 0:00:01\r\u001b[K     |██████████▍                     | 184 kB 4.3 MB/s eta 0:00:01\r\u001b[K     |███████████                     | 194 kB 4.3 MB/s eta 0:00:01\r\u001b[K     |███████████▋                    | 204 kB 4.3 MB/s eta 0:00:01\r\u001b[K     |████████████▏                   | 215 kB 4.3 MB/s eta 0:00:01\r\u001b[K     |████████████▊                   | 225 kB 4.3 MB/s eta 0:00:01\r\u001b[K     |█████████████▍                  | 235 kB 4.3 MB/s eta 0:00:01\r\u001b[K     |██████████████                  | 245 kB 4.3 MB/s eta 0:00:01\r\u001b[K     |██████████████▌                 | 256 kB 4.3 MB/s eta 0:00:01\r\u001b[K     |███████████████                 | 266 kB 4.3 MB/s eta 0:00:01\r\u001b[K     |███████████████▋                | 276 kB 4.3 MB/s eta 0:00:01\r\u001b[K     |████████████████▎               | 286 kB 4.3 MB/s eta 0:00:01\r\u001b[K     |████████████████▉               | 296 kB 4.3 MB/s eta 0:00:01\r\u001b[K     |█████████████████▍              | 307 kB 4.3 MB/s eta 0:00:01\r\u001b[K     |██████████████████              | 317 kB 4.3 MB/s eta 0:00:01\r\u001b[K     |██████████████████▋             | 327 kB 4.3 MB/s eta 0:00:01\r\u001b[K     |███████████████████▏            | 337 kB 4.3 MB/s eta 0:00:01\r\u001b[K     |███████████████████▊            | 348 kB 4.3 MB/s eta 0:00:01\r\u001b[K     |████████████████████▎           | 358 kB 4.3 MB/s eta 0:00:01\r\u001b[K     |████████████████████▉           | 368 kB 4.3 MB/s eta 0:00:01\r\u001b[K     |█████████████████████▌          | 378 kB 4.3 MB/s eta 0:00:01\r\u001b[K     |██████████████████████          | 389 kB 4.3 MB/s eta 0:00:01\r\u001b[K     |██████████████████████▋         | 399 kB 4.3 MB/s eta 0:00:01\r\u001b[K     |███████████████████████▏        | 409 kB 4.3 MB/s eta 0:00:01\r\u001b[K     |███████████████████████▉        | 419 kB 4.3 MB/s eta 0:00:01\r\u001b[K     |████████████████████████▍       | 430 kB 4.3 MB/s eta 0:00:01\r\u001b[K     |█████████████████████████       | 440 kB 4.3 MB/s eta 0:00:01\r\u001b[K     |█████████████████████████▌      | 450 kB 4.3 MB/s eta 0:00:01\r\u001b[K     |██████████████████████████      | 460 kB 4.3 MB/s eta 0:00:01\r\u001b[K     |██████████████████████████▊     | 471 kB 4.3 MB/s eta 0:00:01\r\u001b[K     |███████████████████████████▎    | 481 kB 4.3 MB/s eta 0:00:01\r\u001b[K     |███████████████████████████▉    | 491 kB 4.3 MB/s eta 0:00:01\r\u001b[K     |████████████████████████████▍   | 501 kB 4.3 MB/s eta 0:00:01\r\u001b[K     |█████████████████████████████   | 512 kB 4.3 MB/s eta 0:00:01\r\u001b[K     |█████████████████████████████▋  | 522 kB 4.3 MB/s eta 0:00:01\r\u001b[K     |██████████████████████████████▏ | 532 kB 4.3 MB/s eta 0:00:01\r\u001b[K     |██████████████████████████████▊ | 542 kB 4.3 MB/s eta 0:00:01\r\u001b[K     |███████████████████████████████▎| 552 kB 4.3 MB/s eta 0:00:01\r\u001b[K     |████████████████████████████████| 563 kB 4.3 MB/s eta 0:00:01\r\u001b[K     |████████████████████████████████| 564 kB 4.3 MB/s \n",
            "\u001b[?25hCollecting slicer==0.0.7\n",
            "  Downloading slicer-0.0.7-py3-none-any.whl (14 kB)\n",
            "Requirement already satisfied: scikit-learn in /usr/local/lib/python3.7/dist-packages (from shap) (1.0.2)\n",
            "Requirement already satisfied: numpy in /usr/local/lib/python3.7/dist-packages (from shap) (1.21.6)\n",
            "Requirement already satisfied: numba in /usr/local/lib/python3.7/dist-packages (from shap) (0.51.2)\n",
            "Requirement already satisfied: scipy in /usr/local/lib/python3.7/dist-packages (from shap) (1.4.1)\n",
            "Requirement already satisfied: packaging>20.9 in /usr/local/lib/python3.7/dist-packages (from shap) (21.3)\n",
            "Requirement already satisfied: tqdm>4.25.0 in /usr/local/lib/python3.7/dist-packages (from shap) (4.64.0)\n",
            "Requirement already satisfied: pandas in /usr/local/lib/python3.7/dist-packages (from shap) (1.3.5)\n",
            "Requirement already satisfied: cloudpickle in /usr/local/lib/python3.7/dist-packages (from shap) (1.3.0)\n",
            "Requirement already satisfied: pyparsing!=3.0.5,>=2.0.2 in /usr/local/lib/python3.7/dist-packages (from packaging>20.9->shap) (3.0.8)\n",
            "Requirement already satisfied: setuptools in /usr/local/lib/python3.7/dist-packages (from numba->shap) (57.4.0)\n",
            "Requirement already satisfied: llvmlite<0.35,>=0.34.0.dev0 in /usr/local/lib/python3.7/dist-packages (from numba->shap) (0.34.0)\n",
            "Requirement already satisfied: pytz>=2017.3 in /usr/local/lib/python3.7/dist-packages (from pandas->shap) (2022.1)\n",
            "Requirement already satisfied: python-dateutil>=2.7.3 in /usr/local/lib/python3.7/dist-packages (from pandas->shap) (2.8.2)\n",
            "Requirement already satisfied: six>=1.5 in /usr/local/lib/python3.7/dist-packages (from python-dateutil>=2.7.3->pandas->shap) (1.15.0)\n",
            "Requirement already satisfied: threadpoolctl>=2.0.0 in /usr/local/lib/python3.7/dist-packages (from scikit-learn->shap) (3.1.0)\n",
            "Requirement already satisfied: joblib>=0.11 in /usr/local/lib/python3.7/dist-packages (from scikit-learn->shap) (1.1.0)\n",
            "Installing collected packages: slicer, shap\n",
            "Successfully installed shap-0.40.0 slicer-0.0.7\n"
          ]
        }
      ]
    },
    {
      "cell_type": "code",
      "source": [
        "from google.colab import drive\n",
        "\n",
        "# mount the Google drive as a path that you can work on \n",
        "drive.mount('/drive')\n",
        "\n",
        "df_0 = pd.read_csv('/drive/My Drive/Colab Notebooks/Data/smalldata.csv', parse_dates=['DATE'])"
      ],
      "metadata": {
        "colab": {
          "base_uri": "https://localhost:8080/"
        },
        "id": "F2KLPkdimCj-",
        "outputId": "0b063325-f2f2-4987-ae9b-28b534ff9419"
      },
      "execution_count": 2,
      "outputs": [
        {
          "output_type": "stream",
          "name": "stdout",
          "text": [
            "Mounted at /drive\n"
          ]
        }
      ]
    },
    {
      "cell_type": "code",
      "source": [
        "df_0.info(verbose=True,show_counts=True)"
      ],
      "metadata": {
        "colab": {
          "base_uri": "https://localhost:8080/"
        },
        "id": "9tU6vZFImwzI",
        "outputId": "1d565d88-babc-4ba2-a463-f2a8170aa5a7"
      },
      "execution_count": 3,
      "outputs": [
        {
          "output_type": "stream",
          "name": "stdout",
          "text": [
            "<class 'pandas.core.frame.DataFrame'>\n",
            "RangeIndex: 77836 entries, 0 to 77835\n",
            "Data columns (total 102 columns):\n",
            " #    Column           Non-Null Count  Dtype         \n",
            "---   ------           --------------  -----         \n",
            " 0    Unnamed: 0       77836 non-null  float64       \n",
            " 1    DATE             77836 non-null  datetime64[ns]\n",
            " 2    permno           77836 non-null  float64       \n",
            " 3    RET              77836 non-null  float64       \n",
            " 4    mvel1            77836 non-null  float64       \n",
            " 5    prc              77836 non-null  float64       \n",
            " 6    SHROUT           77836 non-null  float64       \n",
            " 7    beta             77836 non-null  float64       \n",
            " 8    betasq           77836 non-null  float64       \n",
            " 9    chmom            77836 non-null  float64       \n",
            " 10   dolvol           77836 non-null  float64       \n",
            " 11   idiovol          77836 non-null  float64       \n",
            " 12   indmom           77836 non-null  float64       \n",
            " 13   mom1m            77836 non-null  float64       \n",
            " 14   mom6m            77836 non-null  float64       \n",
            " 15   mom12m           77836 non-null  float64       \n",
            " 16   mom36m           77836 non-null  float64       \n",
            " 17   mve0             77836 non-null  float64       \n",
            " 18   pricedelay       77836 non-null  float64       \n",
            " 19   turn             77836 non-null  float64       \n",
            " 20   absacc           77836 non-null  float64       \n",
            " 21   acc              77836 non-null  float64       \n",
            " 22   age              77836 non-null  float64       \n",
            " 23   agr              77836 non-null  float64       \n",
            " 24   cashdebt         77836 non-null  float64       \n",
            " 25   cashpr           77836 non-null  float64       \n",
            " 26   cfp              77836 non-null  float64       \n",
            " 27   cfp_ia           77836 non-null  float64       \n",
            " 28   chatoia          77836 non-null  float64       \n",
            " 29   chcsho           77836 non-null  float64       \n",
            " 30   chempia          77836 non-null  float64       \n",
            " 31   chinv            77836 non-null  float64       \n",
            " 32   chpmia           77836 non-null  float64       \n",
            " 33   convind          77836 non-null  float64       \n",
            " 34   currat           77836 non-null  float64       \n",
            " 35   depr             77836 non-null  float64       \n",
            " 36   divi             77836 non-null  float64       \n",
            " 37   divo             77836 non-null  float64       \n",
            " 38   dy               77836 non-null  float64       \n",
            " 39   egr              77836 non-null  float64       \n",
            " 40   ep               77836 non-null  float64       \n",
            " 41   gma              77836 non-null  float64       \n",
            " 42   grcapx           77836 non-null  float64       \n",
            " 43   grltnoa          77836 non-null  float64       \n",
            " 44   herf             77836 non-null  float64       \n",
            " 45   hire             77836 non-null  float64       \n",
            " 46   invest           77836 non-null  float64       \n",
            " 47   lev              77836 non-null  float64       \n",
            " 48   lgr              77836 non-null  float64       \n",
            " 49   mve_ia           77836 non-null  float64       \n",
            " 50   operprof         77836 non-null  float64       \n",
            " 51   orgcap           77836 non-null  float64       \n",
            " 52   pchcapx_ia       77836 non-null  float64       \n",
            " 53   pchcurrat        77836 non-null  float64       \n",
            " 54   pchdepr          77836 non-null  float64       \n",
            " 55   pchgm_pchsale    77836 non-null  float64       \n",
            " 56   pchquick         77836 non-null  float64       \n",
            " 57   pchsale_pchinvt  77836 non-null  float64       \n",
            " 58   pchsale_pchrect  77836 non-null  float64       \n",
            " 59   pchsale_pchxsga  77836 non-null  float64       \n",
            " 60   pchsaleinv       77836 non-null  float64       \n",
            " 61   pctacc           77836 non-null  float64       \n",
            " 62   ps               77836 non-null  float64       \n",
            " 63   quick            77836 non-null  float64       \n",
            " 64   rd               77836 non-null  float64       \n",
            " 65   rd_mve           77836 non-null  float64       \n",
            " 66   rd_sale          77836 non-null  float64       \n",
            " 67   realestate       77836 non-null  float64       \n",
            " 68   roic             77836 non-null  float64       \n",
            " 69   salecash         77836 non-null  float64       \n",
            " 70   saleinv          77836 non-null  float64       \n",
            " 71   salerec          77836 non-null  float64       \n",
            " 72   secured          77836 non-null  float64       \n",
            " 73   securedind       77836 non-null  float64       \n",
            " 74   sgr              77836 non-null  float64       \n",
            " 75   sin              77836 non-null  float64       \n",
            " 76   sp               77836 non-null  float64       \n",
            " 77   tang             77836 non-null  float64       \n",
            " 78   tb               77836 non-null  float64       \n",
            " 79   aeavol           77836 non-null  float64       \n",
            " 80   cash             77836 non-null  float64       \n",
            " 81   chtx             77836 non-null  float64       \n",
            " 82   cinvest          77836 non-null  float64       \n",
            " 83   ear              77836 non-null  float64       \n",
            " 84   nincr            77836 non-null  float64       \n",
            " 85   roaq             77836 non-null  float64       \n",
            " 86   roavol           77836 non-null  float64       \n",
            " 87   roeq             77836 non-null  float64       \n",
            " 88   rsup             77836 non-null  float64       \n",
            " 89   stdacc           77836 non-null  float64       \n",
            " 90   stdcf            77836 non-null  float64       \n",
            " 91   ms               77836 non-null  float64       \n",
            " 92   baspread         77836 non-null  float64       \n",
            " 93   ill              77836 non-null  float64       \n",
            " 94   maxret           77836 non-null  float64       \n",
            " 95   retvol           77836 non-null  float64       \n",
            " 96   std_dolvol       77836 non-null  float64       \n",
            " 97   std_turn         77836 non-null  float64       \n",
            " 98   zerotrade        77836 non-null  float64       \n",
            " 99   sic2             77836 non-null  float64       \n",
            " 100  bm               77836 non-null  float64       \n",
            " 101  bm_ia            77836 non-null  float64       \n",
            "dtypes: datetime64[ns](1), float64(101)\n",
            "memory usage: 60.6 MB\n"
          ]
        }
      ]
    },
    {
      "cell_type": "code",
      "source": [
        "df=df_0.dropna(axis=0, how='any')\n",
        "\n",
        "df.drop(columns=['Unnamed: 0'], inplace=True)"
      ],
      "metadata": {
        "id": "kFupEfX5m78x"
      },
      "execution_count": 4,
      "outputs": []
    },
    {
      "cell_type": "code",
      "source": [
        "#set DATE as index\n",
        "df.set_index('DATE', inplace=True)\n",
        "df.sort_values('DATE', inplace=True)"
      ],
      "metadata": {
        "id": "pz4VjENCpqrI"
      },
      "execution_count": 5,
      "outputs": []
    },
    {
      "cell_type": "code",
      "source": [
        "df['lead(RET,1)'] = df['RET'].shift(-1)\n",
        "df.drop(columns=['RET'],inplace=True)\n",
        "df.dropna(axis=0, how='any')"
      ],
      "metadata": {
        "colab": {
          "base_uri": "https://localhost:8080/",
          "height": 693
        },
        "id": "Dqk-rWiinZXT",
        "outputId": "a2215b32-a4d2-4ff4-e7e0-135cecc0a9cb"
      },
      "execution_count": 6,
      "outputs": [
        {
          "output_type": "execute_result",
          "data": {
            "text/plain": [
              "             permno         mvel1        prc   SHROUT      beta    betasq  \\\n",
              "DATE                                                                        \n",
              "2010-01-29  86098.0   45513.75000   0.669900  60685.0  0.518872  0.269228   \n",
              "2010-01-29  90605.0  289238.00610  16.840000  15980.0  1.050024  1.102549   \n",
              "2010-01-29  63706.0  283082.79300  30.570000   9191.0  0.975158  0.950933   \n",
              "2010-01-29  38746.0   82145.19886  13.700000   5996.0  1.377299  1.896954   \n",
              "2010-01-29  89898.0   83790.65802   1.430000  63428.0  0.897917  0.806254   \n",
              "...             ...           ...        ...      ...       ...       ...   \n",
              "2020-12-31  20123.0  294300.01260  10.360000  30000.0  1.023273  1.050486   \n",
              "2020-12-31  79150.0  537326.98920  45.259998  14215.0  1.121876  1.258605   \n",
              "2020-12-31  17444.0   30115.79992  13.280000   2145.0  1.858005  3.452183   \n",
              "2020-12-31  16866.0   28145.69959   3.640000   8529.0  1.085603  1.178534   \n",
              "2020-12-31  81084.0   57169.76142   1.090000  42664.0  1.093973  1.196778   \n",
              "\n",
              "               chmom     dolvol   idiovol    indmom  ...           ill  \\\n",
              "DATE                                                 ...                 \n",
              "2010-01-29 -1.809524   9.379499  0.100164  0.641103  ...  6.470000e-07   \n",
              "2010-01-29 -0.025749  11.245050  0.079708  0.084098  ...  3.850000e-08   \n",
              "2010-01-29 -0.635084  11.253987  0.046256  0.399662  ...  2.790000e-08   \n",
              "2010-01-29  0.889446   9.486717  0.078316  0.663608  ...  4.600000e-07   \n",
              "2010-01-29  0.384356  10.968221  0.121274  0.135788  ...  7.700000e-08   \n",
              "...              ...        ...       ...       ...  ...           ...   \n",
              "2020-12-31 -0.013411  13.170475  0.043093 -0.019531  ...  8.350000e-09   \n",
              "2020-12-31  0.547245  13.408118  0.067260  0.332163  ...  8.250000e-09   \n",
              "2020-12-31  0.563742   8.835624  0.081825  0.317594  ...  1.150000e-05   \n",
              "2020-12-31  0.402321   9.014295  0.071841 -0.432787  ...  1.090000e-06   \n",
              "2020-12-31  0.207414  10.006809  0.139113  0.047075  ...  9.740000e-08   \n",
              "\n",
              "              maxret    retvol  std_dolvol  std_turn     zerotrade  sic2  \\\n",
              "DATE                                                                       \n",
              "2010-01-29  0.078947  0.030867    0.804887  0.578704  1.060000e-07  73.0   \n",
              "2010-01-29  0.089895  0.026122    1.122120  2.418606  4.140000e-08  42.0   \n",
              "2010-01-29  0.010859  0.011896    0.547069  0.702432  8.260000e-08  67.0   \n",
              "2010-01-29  0.041451  0.015667    1.079481  0.788810  9.370000e-08  65.0   \n",
              "2010-01-29  0.096552  0.029999    0.517723  2.077421  2.510000e-08  44.0   \n",
              "...              ...       ...         ...       ...           ...   ...   \n",
              "2020-12-31  0.014286  0.007723    1.616228  2.292756  1.550000e-07  55.0   \n",
              "2020-12-31  0.092023  0.040739    0.477943  2.834439  1.640000e-08  28.0   \n",
              "2020-12-31  0.066762  0.031831    1.522927  0.888858  9.920000e-08  36.0   \n",
              "2020-12-31  0.105263  0.046385    0.645666  0.935102  7.640000e-08  13.0   \n",
              "2020-12-31  0.175439  0.052616    0.977530  8.482060  1.550000e-08  50.0   \n",
              "\n",
              "                  bm     bm_ia  lead(RET,1)  \n",
              "DATE                                         \n",
              "2010-01-29  1.053929  0.183501    -0.069613  \n",
              "2010-01-29  0.749266 -0.394330    -0.007468  \n",
              "2010-01-29  0.000287 -1.517140     0.000000  \n",
              "2010-01-29  0.519059 -1.535083     0.014184  \n",
              "2010-01-29  0.107389 -1.107860    -0.043571  \n",
              "...              ...       ...          ...  \n",
              "2020-12-31  0.587311 -0.129934     0.197354  \n",
              "2020-12-31  0.587311 -0.129934    -0.054131  \n",
              "2020-12-31  0.587311 -0.129934     0.103030  \n",
              "2020-12-31  0.587311 -0.129934    -0.186567  \n",
              "2020-12-31  0.587311 -0.129934     0.001532  \n",
              "\n",
              "[77835 rows x 100 columns]"
            ],
            "text/html": [
              "\n",
              "  <div id=\"df-4b593003-b05a-49dd-9e9c-6bf235ee4d69\">\n",
              "    <div class=\"colab-df-container\">\n",
              "      <div>\n",
              "<style scoped>\n",
              "    .dataframe tbody tr th:only-of-type {\n",
              "        vertical-align: middle;\n",
              "    }\n",
              "\n",
              "    .dataframe tbody tr th {\n",
              "        vertical-align: top;\n",
              "    }\n",
              "\n",
              "    .dataframe thead th {\n",
              "        text-align: right;\n",
              "    }\n",
              "</style>\n",
              "<table border=\"1\" class=\"dataframe\">\n",
              "  <thead>\n",
              "    <tr style=\"text-align: right;\">\n",
              "      <th></th>\n",
              "      <th>permno</th>\n",
              "      <th>mvel1</th>\n",
              "      <th>prc</th>\n",
              "      <th>SHROUT</th>\n",
              "      <th>beta</th>\n",
              "      <th>betasq</th>\n",
              "      <th>chmom</th>\n",
              "      <th>dolvol</th>\n",
              "      <th>idiovol</th>\n",
              "      <th>indmom</th>\n",
              "      <th>...</th>\n",
              "      <th>ill</th>\n",
              "      <th>maxret</th>\n",
              "      <th>retvol</th>\n",
              "      <th>std_dolvol</th>\n",
              "      <th>std_turn</th>\n",
              "      <th>zerotrade</th>\n",
              "      <th>sic2</th>\n",
              "      <th>bm</th>\n",
              "      <th>bm_ia</th>\n",
              "      <th>lead(RET,1)</th>\n",
              "    </tr>\n",
              "    <tr>\n",
              "      <th>DATE</th>\n",
              "      <th></th>\n",
              "      <th></th>\n",
              "      <th></th>\n",
              "      <th></th>\n",
              "      <th></th>\n",
              "      <th></th>\n",
              "      <th></th>\n",
              "      <th></th>\n",
              "      <th></th>\n",
              "      <th></th>\n",
              "      <th></th>\n",
              "      <th></th>\n",
              "      <th></th>\n",
              "      <th></th>\n",
              "      <th></th>\n",
              "      <th></th>\n",
              "      <th></th>\n",
              "      <th></th>\n",
              "      <th></th>\n",
              "      <th></th>\n",
              "      <th></th>\n",
              "    </tr>\n",
              "  </thead>\n",
              "  <tbody>\n",
              "    <tr>\n",
              "      <th>2010-01-29</th>\n",
              "      <td>86098.0</td>\n",
              "      <td>45513.75000</td>\n",
              "      <td>0.669900</td>\n",
              "      <td>60685.0</td>\n",
              "      <td>0.518872</td>\n",
              "      <td>0.269228</td>\n",
              "      <td>-1.809524</td>\n",
              "      <td>9.379499</td>\n",
              "      <td>0.100164</td>\n",
              "      <td>0.641103</td>\n",
              "      <td>...</td>\n",
              "      <td>6.470000e-07</td>\n",
              "      <td>0.078947</td>\n",
              "      <td>0.030867</td>\n",
              "      <td>0.804887</td>\n",
              "      <td>0.578704</td>\n",
              "      <td>1.060000e-07</td>\n",
              "      <td>73.0</td>\n",
              "      <td>1.053929</td>\n",
              "      <td>0.183501</td>\n",
              "      <td>-0.069613</td>\n",
              "    </tr>\n",
              "    <tr>\n",
              "      <th>2010-01-29</th>\n",
              "      <td>90605.0</td>\n",
              "      <td>289238.00610</td>\n",
              "      <td>16.840000</td>\n",
              "      <td>15980.0</td>\n",
              "      <td>1.050024</td>\n",
              "      <td>1.102549</td>\n",
              "      <td>-0.025749</td>\n",
              "      <td>11.245050</td>\n",
              "      <td>0.079708</td>\n",
              "      <td>0.084098</td>\n",
              "      <td>...</td>\n",
              "      <td>3.850000e-08</td>\n",
              "      <td>0.089895</td>\n",
              "      <td>0.026122</td>\n",
              "      <td>1.122120</td>\n",
              "      <td>2.418606</td>\n",
              "      <td>4.140000e-08</td>\n",
              "      <td>42.0</td>\n",
              "      <td>0.749266</td>\n",
              "      <td>-0.394330</td>\n",
              "      <td>-0.007468</td>\n",
              "    </tr>\n",
              "    <tr>\n",
              "      <th>2010-01-29</th>\n",
              "      <td>63706.0</td>\n",
              "      <td>283082.79300</td>\n",
              "      <td>30.570000</td>\n",
              "      <td>9191.0</td>\n",
              "      <td>0.975158</td>\n",
              "      <td>0.950933</td>\n",
              "      <td>-0.635084</td>\n",
              "      <td>11.253987</td>\n",
              "      <td>0.046256</td>\n",
              "      <td>0.399662</td>\n",
              "      <td>...</td>\n",
              "      <td>2.790000e-08</td>\n",
              "      <td>0.010859</td>\n",
              "      <td>0.011896</td>\n",
              "      <td>0.547069</td>\n",
              "      <td>0.702432</td>\n",
              "      <td>8.260000e-08</td>\n",
              "      <td>67.0</td>\n",
              "      <td>0.000287</td>\n",
              "      <td>-1.517140</td>\n",
              "      <td>0.000000</td>\n",
              "    </tr>\n",
              "    <tr>\n",
              "      <th>2010-01-29</th>\n",
              "      <td>38746.0</td>\n",
              "      <td>82145.19886</td>\n",
              "      <td>13.700000</td>\n",
              "      <td>5996.0</td>\n",
              "      <td>1.377299</td>\n",
              "      <td>1.896954</td>\n",
              "      <td>0.889446</td>\n",
              "      <td>9.486717</td>\n",
              "      <td>0.078316</td>\n",
              "      <td>0.663608</td>\n",
              "      <td>...</td>\n",
              "      <td>4.600000e-07</td>\n",
              "      <td>0.041451</td>\n",
              "      <td>0.015667</td>\n",
              "      <td>1.079481</td>\n",
              "      <td>0.788810</td>\n",
              "      <td>9.370000e-08</td>\n",
              "      <td>65.0</td>\n",
              "      <td>0.519059</td>\n",
              "      <td>-1.535083</td>\n",
              "      <td>0.014184</td>\n",
              "    </tr>\n",
              "    <tr>\n",
              "      <th>2010-01-29</th>\n",
              "      <td>89898.0</td>\n",
              "      <td>83790.65802</td>\n",
              "      <td>1.430000</td>\n",
              "      <td>63428.0</td>\n",
              "      <td>0.897917</td>\n",
              "      <td>0.806254</td>\n",
              "      <td>0.384356</td>\n",
              "      <td>10.968221</td>\n",
              "      <td>0.121274</td>\n",
              "      <td>0.135788</td>\n",
              "      <td>...</td>\n",
              "      <td>7.700000e-08</td>\n",
              "      <td>0.096552</td>\n",
              "      <td>0.029999</td>\n",
              "      <td>0.517723</td>\n",
              "      <td>2.077421</td>\n",
              "      <td>2.510000e-08</td>\n",
              "      <td>44.0</td>\n",
              "      <td>0.107389</td>\n",
              "      <td>-1.107860</td>\n",
              "      <td>-0.043571</td>\n",
              "    </tr>\n",
              "    <tr>\n",
              "      <th>...</th>\n",
              "      <td>...</td>\n",
              "      <td>...</td>\n",
              "      <td>...</td>\n",
              "      <td>...</td>\n",
              "      <td>...</td>\n",
              "      <td>...</td>\n",
              "      <td>...</td>\n",
              "      <td>...</td>\n",
              "      <td>...</td>\n",
              "      <td>...</td>\n",
              "      <td>...</td>\n",
              "      <td>...</td>\n",
              "      <td>...</td>\n",
              "      <td>...</td>\n",
              "      <td>...</td>\n",
              "      <td>...</td>\n",
              "      <td>...</td>\n",
              "      <td>...</td>\n",
              "      <td>...</td>\n",
              "      <td>...</td>\n",
              "      <td>...</td>\n",
              "    </tr>\n",
              "    <tr>\n",
              "      <th>2020-12-31</th>\n",
              "      <td>20123.0</td>\n",
              "      <td>294300.01260</td>\n",
              "      <td>10.360000</td>\n",
              "      <td>30000.0</td>\n",
              "      <td>1.023273</td>\n",
              "      <td>1.050486</td>\n",
              "      <td>-0.013411</td>\n",
              "      <td>13.170475</td>\n",
              "      <td>0.043093</td>\n",
              "      <td>-0.019531</td>\n",
              "      <td>...</td>\n",
              "      <td>8.350000e-09</td>\n",
              "      <td>0.014286</td>\n",
              "      <td>0.007723</td>\n",
              "      <td>1.616228</td>\n",
              "      <td>2.292756</td>\n",
              "      <td>1.550000e-07</td>\n",
              "      <td>55.0</td>\n",
              "      <td>0.587311</td>\n",
              "      <td>-0.129934</td>\n",
              "      <td>0.197354</td>\n",
              "    </tr>\n",
              "    <tr>\n",
              "      <th>2020-12-31</th>\n",
              "      <td>79150.0</td>\n",
              "      <td>537326.98920</td>\n",
              "      <td>45.259998</td>\n",
              "      <td>14215.0</td>\n",
              "      <td>1.121876</td>\n",
              "      <td>1.258605</td>\n",
              "      <td>0.547245</td>\n",
              "      <td>13.408118</td>\n",
              "      <td>0.067260</td>\n",
              "      <td>0.332163</td>\n",
              "      <td>...</td>\n",
              "      <td>8.250000e-09</td>\n",
              "      <td>0.092023</td>\n",
              "      <td>0.040739</td>\n",
              "      <td>0.477943</td>\n",
              "      <td>2.834439</td>\n",
              "      <td>1.640000e-08</td>\n",
              "      <td>28.0</td>\n",
              "      <td>0.587311</td>\n",
              "      <td>-0.129934</td>\n",
              "      <td>-0.054131</td>\n",
              "    </tr>\n",
              "    <tr>\n",
              "      <th>2020-12-31</th>\n",
              "      <td>17444.0</td>\n",
              "      <td>30115.79992</td>\n",
              "      <td>13.280000</td>\n",
              "      <td>2145.0</td>\n",
              "      <td>1.858005</td>\n",
              "      <td>3.452183</td>\n",
              "      <td>0.563742</td>\n",
              "      <td>8.835624</td>\n",
              "      <td>0.081825</td>\n",
              "      <td>0.317594</td>\n",
              "      <td>...</td>\n",
              "      <td>1.150000e-05</td>\n",
              "      <td>0.066762</td>\n",
              "      <td>0.031831</td>\n",
              "      <td>1.522927</td>\n",
              "      <td>0.888858</td>\n",
              "      <td>9.920000e-08</td>\n",
              "      <td>36.0</td>\n",
              "      <td>0.587311</td>\n",
              "      <td>-0.129934</td>\n",
              "      <td>0.103030</td>\n",
              "    </tr>\n",
              "    <tr>\n",
              "      <th>2020-12-31</th>\n",
              "      <td>16866.0</td>\n",
              "      <td>28145.69959</td>\n",
              "      <td>3.640000</td>\n",
              "      <td>8529.0</td>\n",
              "      <td>1.085603</td>\n",
              "      <td>1.178534</td>\n",
              "      <td>0.402321</td>\n",
              "      <td>9.014295</td>\n",
              "      <td>0.071841</td>\n",
              "      <td>-0.432787</td>\n",
              "      <td>...</td>\n",
              "      <td>1.090000e-06</td>\n",
              "      <td>0.105263</td>\n",
              "      <td>0.046385</td>\n",
              "      <td>0.645666</td>\n",
              "      <td>0.935102</td>\n",
              "      <td>7.640000e-08</td>\n",
              "      <td>13.0</td>\n",
              "      <td>0.587311</td>\n",
              "      <td>-0.129934</td>\n",
              "      <td>-0.186567</td>\n",
              "    </tr>\n",
              "    <tr>\n",
              "      <th>2020-12-31</th>\n",
              "      <td>81084.0</td>\n",
              "      <td>57169.76142</td>\n",
              "      <td>1.090000</td>\n",
              "      <td>42664.0</td>\n",
              "      <td>1.093973</td>\n",
              "      <td>1.196778</td>\n",
              "      <td>0.207414</td>\n",
              "      <td>10.006809</td>\n",
              "      <td>0.139113</td>\n",
              "      <td>0.047075</td>\n",
              "      <td>...</td>\n",
              "      <td>9.740000e-08</td>\n",
              "      <td>0.175439</td>\n",
              "      <td>0.052616</td>\n",
              "      <td>0.977530</td>\n",
              "      <td>8.482060</td>\n",
              "      <td>1.550000e-08</td>\n",
              "      <td>50.0</td>\n",
              "      <td>0.587311</td>\n",
              "      <td>-0.129934</td>\n",
              "      <td>0.001532</td>\n",
              "    </tr>\n",
              "  </tbody>\n",
              "</table>\n",
              "<p>77835 rows × 100 columns</p>\n",
              "</div>\n",
              "      <button class=\"colab-df-convert\" onclick=\"convertToInteractive('df-4b593003-b05a-49dd-9e9c-6bf235ee4d69')\"\n",
              "              title=\"Convert this dataframe to an interactive table.\"\n",
              "              style=\"display:none;\">\n",
              "        \n",
              "  <svg xmlns=\"http://www.w3.org/2000/svg\" height=\"24px\"viewBox=\"0 0 24 24\"\n",
              "       width=\"24px\">\n",
              "    <path d=\"M0 0h24v24H0V0z\" fill=\"none\"/>\n",
              "    <path d=\"M18.56 5.44l.94 2.06.94-2.06 2.06-.94-2.06-.94-.94-2.06-.94 2.06-2.06.94zm-11 1L8.5 8.5l.94-2.06 2.06-.94-2.06-.94L8.5 2.5l-.94 2.06-2.06.94zm10 10l.94 2.06.94-2.06 2.06-.94-2.06-.94-.94-2.06-.94 2.06-2.06.94z\"/><path d=\"M17.41 7.96l-1.37-1.37c-.4-.4-.92-.59-1.43-.59-.52 0-1.04.2-1.43.59L10.3 9.45l-7.72 7.72c-.78.78-.78 2.05 0 2.83L4 21.41c.39.39.9.59 1.41.59.51 0 1.02-.2 1.41-.59l7.78-7.78 2.81-2.81c.8-.78.8-2.07 0-2.86zM5.41 20L4 18.59l7.72-7.72 1.47 1.35L5.41 20z\"/>\n",
              "  </svg>\n",
              "      </button>\n",
              "      \n",
              "  <style>\n",
              "    .colab-df-container {\n",
              "      display:flex;\n",
              "      flex-wrap:wrap;\n",
              "      gap: 12px;\n",
              "    }\n",
              "\n",
              "    .colab-df-convert {\n",
              "      background-color: #E8F0FE;\n",
              "      border: none;\n",
              "      border-radius: 50%;\n",
              "      cursor: pointer;\n",
              "      display: none;\n",
              "      fill: #1967D2;\n",
              "      height: 32px;\n",
              "      padding: 0 0 0 0;\n",
              "      width: 32px;\n",
              "    }\n",
              "\n",
              "    .colab-df-convert:hover {\n",
              "      background-color: #E2EBFA;\n",
              "      box-shadow: 0px 1px 2px rgba(60, 64, 67, 0.3), 0px 1px 3px 1px rgba(60, 64, 67, 0.15);\n",
              "      fill: #174EA6;\n",
              "    }\n",
              "\n",
              "    [theme=dark] .colab-df-convert {\n",
              "      background-color: #3B4455;\n",
              "      fill: #D2E3FC;\n",
              "    }\n",
              "\n",
              "    [theme=dark] .colab-df-convert:hover {\n",
              "      background-color: #434B5C;\n",
              "      box-shadow: 0px 1px 3px 1px rgba(0, 0, 0, 0.15);\n",
              "      filter: drop-shadow(0px 1px 2px rgba(0, 0, 0, 0.3));\n",
              "      fill: #FFFFFF;\n",
              "    }\n",
              "  </style>\n",
              "\n",
              "      <script>\n",
              "        const buttonEl =\n",
              "          document.querySelector('#df-4b593003-b05a-49dd-9e9c-6bf235ee4d69 button.colab-df-convert');\n",
              "        buttonEl.style.display =\n",
              "          google.colab.kernel.accessAllowed ? 'block' : 'none';\n",
              "\n",
              "        async function convertToInteractive(key) {\n",
              "          const element = document.querySelector('#df-4b593003-b05a-49dd-9e9c-6bf235ee4d69');\n",
              "          const dataTable =\n",
              "            await google.colab.kernel.invokeFunction('convertToInteractive',\n",
              "                                                     [key], {});\n",
              "          if (!dataTable) return;\n",
              "\n",
              "          const docLinkHtml = 'Like what you see? Visit the ' +\n",
              "            '<a target=\"_blank\" href=https://colab.research.google.com/notebooks/data_table.ipynb>data table notebook</a>'\n",
              "            + ' to learn more about interactive tables.';\n",
              "          element.innerHTML = '';\n",
              "          dataTable['output_type'] = 'display_data';\n",
              "          await google.colab.output.renderOutput(dataTable, element);\n",
              "          const docLink = document.createElement('div');\n",
              "          docLink.innerHTML = docLinkHtml;\n",
              "          element.appendChild(docLink);\n",
              "        }\n",
              "      </script>\n",
              "    </div>\n",
              "  </div>\n",
              "  "
            ]
          },
          "metadata": {},
          "execution_count": 6
        }
      ]
    },
    {
      "cell_type": "code",
      "source": [
        "df = df.replace([np.inf, -np.inf], np.nan)\n",
        "df = df.dropna()"
      ],
      "metadata": {
        "id": "eo2nOYAUrqKD"
      },
      "execution_count": 7,
      "outputs": []
    },
    {
      "cell_type": "code",
      "source": [
        "X_train, X_test, y_train, y_test = train_test_split(\n",
        "      df.drop(['lead(RET,1)'], axis=1),\n",
        "      df.loc[:,['lead(RET,1)']],\n",
        "      test_size=0.3, shuffle=False)\n",
        "\n",
        "X_train.shape, y_train.shape, X_test.shape, y_test.shape"
      ],
      "metadata": {
        "colab": {
          "base_uri": "https://localhost:8080/"
        },
        "id": "ifAQbMHDn_O9",
        "outputId": "be48c395-7b63-4626-8fdc-953786515f54"
      },
      "execution_count": 8,
      "outputs": [
        {
          "output_type": "execute_result",
          "data": {
            "text/plain": [
              "((54484, 99), (54484, 1), (23351, 99), (23351, 1))"
            ]
          },
          "metadata": {},
          "execution_count": 8
        }
      ]
    },
    {
      "cell_type": "code",
      "source": [
        "model_tree = DecisionTreeRegressor()"
      ],
      "metadata": {
        "id": "eiSbXDJjodA5"
      },
      "execution_count": 9,
      "outputs": []
    },
    {
      "cell_type": "code",
      "source": [
        "%time model_tree.fit(X_train, y_train)"
      ],
      "metadata": {
        "colab": {
          "base_uri": "https://localhost:8080/"
        },
        "id": "GsoIpnxTohGt",
        "outputId": "781a9553-93e8-4275-faae-3f9ccad03bab"
      },
      "execution_count": 10,
      "outputs": [
        {
          "output_type": "stream",
          "name": "stdout",
          "text": [
            "CPU times: user 15.3 s, sys: 0 ns, total: 15.3 s\n",
            "Wall time: 15.2 s\n"
          ]
        },
        {
          "output_type": "execute_result",
          "data": {
            "text/plain": [
              "DecisionTreeRegressor()"
            ]
          },
          "metadata": {},
          "execution_count": 10
        }
      ]
    },
    {
      "cell_type": "code",
      "source": [
        "model_tree.get_depth()"
      ],
      "metadata": {
        "colab": {
          "base_uri": "https://localhost:8080/"
        },
        "id": "NDuD1Y3S2HUu",
        "outputId": "c74790b1-dca1-4493-d3f7-4b3f208825ed"
      },
      "execution_count": 11,
      "outputs": [
        {
          "output_type": "execute_result",
          "data": {
            "text/plain": [
              "100"
            ]
          },
          "metadata": {},
          "execution_count": 11
        }
      ]
    },
    {
      "cell_type": "code",
      "source": [
        "### COMPUTE STOCHASTIC DROPOUT ###\n",
        "%%time\n",
        "#mse\n",
        "msescores = []\n",
        "for i in tqdm.tqdm(range(0,50)):\n",
        "    msescores.append(mean_squared_error(y_train, model_tree.predict(X_train).ravel()))\n",
        "\n",
        "#mae\n",
        "maescores = []\n",
        "for i in tqdm.tqdm(range(0,50)):\n",
        "    maescores.append(mean_absolute_error(y_train, model_tree.predict(X_train).ravel()))"
      ],
      "metadata": {
        "colab": {
          "base_uri": "https://localhost:8080/"
        },
        "id": "51EnHOK5x_aS",
        "outputId": "f730eade-ee0d-4866-da88-ccc170e21efc"
      },
      "execution_count": 12,
      "outputs": [
        {
          "output_type": "stream",
          "name": "stderr",
          "text": [
            "100%|██████████| 50/50 [00:02<00:00, 18.07it/s]\n",
            "100%|██████████| 50/50 [00:03<00:00, 16.53it/s]"
          ]
        },
        {
          "output_type": "stream",
          "name": "stdout",
          "text": [
            "CPU times: user 5.91 s, sys: 0 ns, total: 5.91 s\n",
            "Wall time: 5.8 s\n"
          ]
        },
        {
          "output_type": "stream",
          "name": "stderr",
          "text": [
            "\n"
          ]
        }
      ]
    },
    {
      "cell_type": "code",
      "source": [
        "print(np.mean(msescores),np.mean(maescores))"
      ],
      "metadata": {
        "colab": {
          "base_uri": "https://localhost:8080/"
        },
        "id": "TjkjZqlRyM9B",
        "outputId": "406be15d-53df-4442-af80-659b05679aa6"
      },
      "execution_count": 13,
      "outputs": [
        {
          "output_type": "stream",
          "name": "stdout",
          "text": [
            "0.0 0.0\n"
          ]
        }
      ]
    },
    {
      "cell_type": "code",
      "source": [
        "### COMPUTE STOCHASTIC DROPOUT ###\n",
        "%%time\n",
        "#mse\n",
        "msescores = []\n",
        "for i in tqdm.tqdm(range(0,50)):\n",
        "    msescores.append(mean_squared_error(y_test, model_tree.predict(X_test).ravel()))\n",
        "\n",
        "#mae\n",
        "maescores = []\n",
        "for i in tqdm.tqdm(range(0,50)):\n",
        "    maescores.append(mean_absolute_error(y_test, model_tree.predict(X_test).ravel()))"
      ],
      "metadata": {
        "colab": {
          "base_uri": "https://localhost:8080/"
        },
        "id": "ITdz-2kQp4j1",
        "outputId": "0519ef48-64c8-4a5a-aa4c-5cb067f5ff91"
      },
      "execution_count": 14,
      "outputs": [
        {
          "output_type": "stream",
          "name": "stderr",
          "text": [
            "100%|██████████| 50/50 [00:01<00:00, 34.09it/s]\n",
            "100%|██████████| 50/50 [00:01<00:00, 39.43it/s]"
          ]
        },
        {
          "output_type": "stream",
          "name": "stdout",
          "text": [
            "CPU times: user 2.77 s, sys: 20.2 ms, total: 2.79 s\n",
            "Wall time: 2.75 s\n"
          ]
        },
        {
          "output_type": "stream",
          "name": "stderr",
          "text": [
            "\n"
          ]
        }
      ]
    },
    {
      "cell_type": "code",
      "source": [
        "print(np.mean(msescores), np.mean(maescores))"
      ],
      "metadata": {
        "colab": {
          "base_uri": "https://localhost:8080/"
        },
        "id": "KYvOWBIBsSUU",
        "outputId": "30565caf-4417-4645-cfef-c7a230733aad"
      },
      "execution_count": 15,
      "outputs": [
        {
          "output_type": "stream",
          "name": "stdout",
          "text": [
            "0.06593531346678135 0.1647418838165389\n"
          ]
        }
      ]
    },
    {
      "cell_type": "markdown",
      "source": [
        "存在过拟合问题，需要进行剪枝"
      ],
      "metadata": {
        "id": "a0sivSWDynZ-"
      }
    },
    {
      "cell_type": "code",
      "source": [
        "max_depths = range(1, 10)\n",
        "training_error = []\n",
        "testing_error = []\n",
        "for max_depth in max_depths:\n",
        "    model_1 = DecisionTreeRegressor(max_depth=max_depth)\n",
        "    model_1.fit(X_train, y_train)\n",
        "    training_error.append(mse(y_train, model_1.predict(X_train)))\n",
        "    testing_error.append(mse(y_test, model_1.predict(X_test)))\n",
        "\n",
        "plt.plot(max_depths, training_error, color='blue', label='Training error')\n",
        "plt.plot(max_depths, testing_error, color='green', label='Testing error')"
      ],
      "metadata": {
        "colab": {
          "base_uri": "https://localhost:8080/",
          "height": 283
        },
        "id": "aU0XCq3XysZD",
        "outputId": "c098ec76-5146-43a2-8c1b-3d7b0da76fbb"
      },
      "execution_count": 16,
      "outputs": [
        {
          "output_type": "execute_result",
          "data": {
            "text/plain": [
              "[<matplotlib.lines.Line2D at 0x7f80635b8e10>]"
            ]
          },
          "metadata": {},
          "execution_count": 16
        },
        {
          "output_type": "display_data",
          "data": {
            "text/plain": [
              "<Figure size 432x288 with 1 Axes>"
            ],
            "image/png": "[encoded data removed]"
          },
          "metadata": {
            "needs_background": "light"
          }
        }
      ]
    },
    {
      "cell_type": "code",
      "source": [
        "model_tree = DecisionTreeRegressor(max_depth=5)"
      ],
      "metadata": {
        "id": "D_6ZmvTczJUW"
      },
      "execution_count": 17,
      "outputs": []
    },
    {
      "cell_type": "code",
      "source": [
        "%time model_tree.fit(X_train, y_train)"
      ],
      "metadata": {
        "colab": {
          "base_uri": "https://localhost:8080/"
        },
        "id": "G675PBUFzWSQ",
        "outputId": "945906eb-6ca5-4d76-a6d0-becc3e68d7d6"
      },
      "execution_count": 18,
      "outputs": [
        {
          "output_type": "stream",
          "name": "stdout",
          "text": [
            "CPU times: user 1.94 s, sys: 277 µs, total: 1.94 s\n",
            "Wall time: 1.92 s\n"
          ]
        },
        {
          "output_type": "execute_result",
          "data": {
            "text/plain": [
              "DecisionTreeRegressor(max_depth=5)"
            ]
          },
          "metadata": {},
          "execution_count": 18
        }
      ]
    },
    {
      "cell_type": "code",
      "source": [
        "### COMPUTE STOCHASTIC DROPOUT ###\n",
        "%%time\n",
        "#mse\n",
        "msescores = []\n",
        "for i in tqdm.tqdm(range(0,50)):\n",
        "    msescores.append(mean_squared_error(y_train, model_tree.predict(X_train).ravel()))\n",
        "\n",
        "#mae\n",
        "maescores = []\n",
        "for i in tqdm.tqdm(range(0,50)):\n",
        "    maescores.append(mean_absolute_error(y_train, model_tree.predict(X_train).ravel()))"
      ],
      "metadata": {
        "colab": {
          "base_uri": "https://localhost:8080/"
        },
        "id": "4NgnHOGyzagI",
        "outputId": "2c9c7276-3dc1-46ec-d6e6-27eb952fe541"
      },
      "execution_count": 19,
      "outputs": [
        {
          "output_type": "stream",
          "name": "stderr",
          "text": [
            "100%|██████████| 50/50 [00:01<00:00, 46.92it/s]\n",
            "100%|██████████| 50/50 [00:00<00:00, 50.32it/s]"
          ]
        },
        {
          "output_type": "stream",
          "name": "stdout",
          "text": [
            "CPU times: user 2.07 s, sys: 25.8 ms, total: 2.1 s\n",
            "Wall time: 2.07 s\n"
          ]
        },
        {
          "output_type": "stream",
          "name": "stderr",
          "text": [
            "\n"
          ]
        }
      ]
    },
    {
      "cell_type": "code",
      "source": [
        "print(np.mean(msescores),np.mean(maescores))"
      ],
      "metadata": {
        "colab": {
          "base_uri": "https://localhost:8080/"
        },
        "id": "7civ6xkEzdmW",
        "outputId": "5b845c0d-6ebf-45b1-81ae-fa939a1e5dea"
      },
      "execution_count": 20,
      "outputs": [
        {
          "output_type": "stream",
          "name": "stdout",
          "text": [
            "0.019038762876582686 0.0842413596893649\n"
          ]
        }
      ]
    },
    {
      "cell_type": "code",
      "source": [
        "### COMPUTE STOCHASTIC DROPOUT ###\n",
        "%%time\n",
        "#mse\n",
        "msescores = []\n",
        "for i in tqdm.tqdm(range(0,50)):\n",
        "    msescores.append(mean_squared_error(y_test, model_tree.predict(X_test).ravel()))\n",
        "\n",
        "#mae\n",
        "maescores = []\n",
        "for i in tqdm.tqdm(range(0,50)):\n",
        "    maescores.append(mean_absolute_error(y_test, model_tree.predict(X_test).ravel()))"
      ],
      "metadata": {
        "colab": {
          "base_uri": "https://localhost:8080/"
        },
        "id": "NIev_0NdzdHI",
        "outputId": "b4827f36-bff6-4e20-b1d9-6af463b57398"
      },
      "execution_count": 21,
      "outputs": [
        {
          "output_type": "stream",
          "name": "stderr",
          "text": [
            "100%|██████████| 50/50 [00:00<00:00, 107.15it/s]\n",
            "100%|██████████| 50/50 [00:00<00:00, 111.39it/s]"
          ]
        },
        {
          "output_type": "stream",
          "name": "stdout",
          "text": [
            "CPU times: user 936 ms, sys: 13.9 ms, total: 950 ms\n",
            "Wall time: 927 ms\n"
          ]
        },
        {
          "output_type": "stream",
          "name": "stderr",
          "text": [
            "\n"
          ]
        }
      ]
    },
    {
      "cell_type": "code",
      "source": [
        "print(np.mean(msescores), np.mean(maescores))"
      ],
      "metadata": {
        "colab": {
          "base_uri": "https://localhost:8080/"
        },
        "id": "KvviCNPmzgmE",
        "outputId": "5de28076-3e49-43ba-e9d0-adf095476ed9"
      },
      "execution_count": 22,
      "outputs": [
        {
          "output_type": "stream",
          "name": "stdout",
          "text": [
            "0.03368994063696524 0.10296186283292923\n"
          ]
        }
      ]
    },
    {
      "cell_type": "code",
      "source": [
        "def draw_tree(t, col_names, size=12, ratio=0.5, precision=3):\n",
        "    \"\"\" Draws a representation of a random forest in IPython.\n",
        "    Parameters:\n",
        "    -----------\n",
        "    t: The tree you wish to draw\n",
        "    df: The data used to train the tree. This is used to get the names of the features.\n",
        "    \"\"\"\n",
        "    s=export_graphviz(t, out_file=None, feature_names=X_train.columns, filled=True,\n",
        "                      special_characters=True, rotate=True, precision=precision)\n",
        "    IPython.display.display(graphviz.Source(re.sub('Tree {',\n",
        "       f'Tree {{ size={size}; ratio={ratio}',s)))\n",
        "col_names =X_train.columns\n",
        "draw_tree(model_tree, col_names, precision=3)"
      ],
      "metadata": {
        "colab": {
          "base_uri": "https://localhost:8080/",
          "height": 598
        },
        "id": "c8HgvVOzJABp",
        "outputId": "71432b7d-b060-45da-8183-52d4c9a19f11"
      },
      "execution_count": 23,
      "outputs": [
        {
          "output_type": "display_data",
          "data": {
            "text/plain": [
              "<graphviz.files.Source at 0x7f80635cac90>"
            ],
            "image/svg+xml": "<?xml version=\"1.0\" encoding=\"UTF-8\" standalone=\"no\"?>\n<!DOCTYPE svg PUBLIC \"-//W3C//DTD SVG 1.1//EN\"\n \"http://www.w3.org/Graphics/SVG/1.1/DTD/svg11.dtd\">\n<!-- Generated by graphviz version 2.40.1 (20161225.0304)\n -->\n<!-- Title: Tree Pages: 1 -->\n<svg width=\"864pt\" height=\"433pt\"\n viewBox=\"0.00 0.00 864.00 432.90\" xmlns=\"http://www.w3.org/2000/svg\" xmlns:xlink=\"http://www.w3.org/1999/xlink\">\n<g id=\"graph0\" class=\"graph\" transform=\"scale(.2246 .2246) rotate(0) translate(4 1923)\">\n<title>Tree</title>\n<polygon fill=\"#ffffff\" stroke=\"transparent\" points=\"-4,4 -4,-1923 3842,-1923 3842,4 -4,4\"/>\n<!-- 0 -->\n<g id=\"node1\" class=\"node\">\n<title>0</title>\n<polygon fill=\"#fcf0e7\" stroke=\"#000000\" points=\"328,-815.5 176,-815.5 176,-747.5 328,-747.5 328,-815.5\"/>\n<text text-anchor=\"start\" x=\"200\" y=\"-800.3\" font-family=\"Helvetica,sans-Serif\" font-size=\"14.00\" fill=\"#000000\">indmom ≤ 0.765</text>\n<text text-anchor=\"start\" x=\"184\" y=\"-785.3\" font-family=\"Helvetica,sans-Serif\" font-size=\"14.00\" fill=\"#000000\">squared_error = 0.02</text>\n<text text-anchor=\"start\" x=\"196\" y=\"-770.3\" font-family=\"Helvetica,sans-Serif\" font-size=\"14.00\" fill=\"#000000\">samples = 54484</text>\n<text text-anchor=\"start\" x=\"208\" y=\"-755.3\" font-family=\"Helvetica,sans-Serif\" font-size=\"14.00\" fill=\"#000000\">value = 0.009</text>\n</g>\n<!-- 1 -->\n<g id=\"node2\" class=\"node\">\n<title>1</title>\n<polygon fill=\"#fcf0e7\" stroke=\"#000000\" points=\"967,-1109.5 815,-1109.5 815,-1041.5 967,-1041.5 967,-1109.5\"/>\n<text text-anchor=\"start\" x=\"839\" y=\"-1094.3\" font-family=\"Helvetica,sans-Serif\" font-size=\"14.00\" fill=\"#000000\">indmom ≤ 0.628</text>\n<text text-anchor=\"start\" x=\"823\" y=\"-1079.3\" font-family=\"Helvetica,sans-Serif\" font-size=\"14.00\" fill=\"#000000\">squared_error = 0.02</text>\n<text text-anchor=\"start\" x=\"835\" y=\"-1064.3\" font-family=\"Helvetica,sans-Serif\" font-size=\"14.00\" fill=\"#000000\">samples = 53003</text>\n<text text-anchor=\"start\" x=\"847\" y=\"-1049.3\" font-family=\"Helvetica,sans-Serif\" font-size=\"14.00\" fill=\"#000000\">value = 0.008</text>\n</g>\n<!-- 0&#45;&gt;1 -->\n<g id=\"edge1\" class=\"edge\">\n<title>0&#45;&gt;1</title>\n<path fill=\"none\" stroke=\"#000000\" d=\"M325.9257,-815.5127C445.7941,-870.6635 681.7899,-979.2437 807.5252,-1037.0938\"/>\n<polygon fill=\"#000000\" stroke=\"#000000\" points=\"806.2066,-1040.3397 816.7541,-1041.3399 809.1324,-1033.9805 806.2066,-1040.3397\"/>\n<text text-anchor=\"middle\" x=\"793.3058\" y=\"-1046.3105\" font-family=\"Helvetica,sans-Serif\" font-size=\"14.00\" fill=\"#000000\">True</text>\n</g>\n<!-- 32 -->\n<g id=\"node33\" class=\"node\">\n<title>32</title>\n<polygon fill=\"#fcefe6\" stroke=\"#000000\" points=\"971.5,-539.5 810.5,-539.5 810.5,-471.5 971.5,-471.5 971.5,-539.5\"/>\n<text text-anchor=\"start\" x=\"856\" y=\"-524.3\" font-family=\"Helvetica,sans-Serif\" font-size=\"14.00\" fill=\"#000000\">sic2 ≤ 62.5</text>\n<text text-anchor=\"start\" x=\"818.5\" y=\"-509.3\" font-family=\"Helvetica,sans-Serif\" font-size=\"14.00\" fill=\"#000000\">squared_error = 0.022</text>\n<text text-anchor=\"start\" x=\"839\" y=\"-494.3\" font-family=\"Helvetica,sans-Serif\" font-size=\"14.00\" fill=\"#000000\">samples = 1481</text>\n<text text-anchor=\"start\" x=\"847\" y=\"-479.3\" font-family=\"Helvetica,sans-Serif\" font-size=\"14.00\" fill=\"#000000\">value = 0.031</text>\n</g>\n<!-- 0&#45;&gt;32 -->\n<g id=\"edge32\" class=\"edge\">\n<title>0&#45;&gt;32</title>\n<path fill=\"none\" stroke=\"#000000\" d=\"M328.1271,-748.6188C447.1797,-697.197 676.8174,-598.0108 802.8638,-543.5682\"/>\n<polygon fill=\"#000000\" stroke=\"#000000\" points=\"804.3363,-546.7448 812.1288,-539.5664 801.5607,-540.3186 804.3363,-546.7448\"/>\n<text text-anchor=\"middle\" x=\"788.8907\" y=\"-526.6474\" font-family=\"Helvetica,sans-Serif\" font-size=\"14.00\" fill=\"#000000\">False</text>\n</g>\n<!-- 2 -->\n<g id=\"node3\" class=\"node\">\n<title>2</title>\n<polygon fill=\"#fcf0e7\" stroke=\"#000000\" points=\"1621,-1535.5 1469,-1535.5 1469,-1467.5 1621,-1467.5 1621,-1535.5\"/>\n<text text-anchor=\"start\" x=\"1490.5\" y=\"-1520.3\" font-family=\"Helvetica,sans-Serif\" font-size=\"14.00\" fill=\"#000000\">indmom ≤ &#45;0.068</text>\n<text text-anchor=\"start\" x=\"1477\" y=\"-1505.3\" font-family=\"Helvetica,sans-Serif\" font-size=\"14.00\" fill=\"#000000\">squared_error = 0.02</text>\n<text text-anchor=\"start\" x=\"1489\" y=\"-1490.3\" font-family=\"Helvetica,sans-Serif\" font-size=\"14.00\" fill=\"#000000\">samples = 52269</text>\n<text text-anchor=\"start\" x=\"1501\" y=\"-1475.3\" font-family=\"Helvetica,sans-Serif\" font-size=\"14.00\" fill=\"#000000\">value = 0.009</text>\n</g>\n<!-- 1&#45;&gt;2 -->\n<g id=\"edge2\" class=\"edge\">\n<title>1&#45;&gt;2</title>\n<path fill=\"none\" stroke=\"#000000\" d=\"M943.414,-1109.6413C1063.2677,-1187.7111 1356.8056,-1378.9147 1484.2719,-1461.9431\"/>\n<polygon fill=\"#000000\" stroke=\"#000000\" points=\"1482.5016,-1464.967 1492.7911,-1467.4924 1486.3222,-1459.1016 1482.5016,-1464.967\"/>\n</g>\n<!-- 17 -->\n<g id=\"node18\" class=\"node\">\n<title>17</title>\n<polygon fill=\"#fcf1e9\" stroke=\"#000000\" points=\"1621,-1109.5 1469,-1109.5 1469,-1041.5 1621,-1041.5 1621,-1109.5\"/>\n<text text-anchor=\"start\" x=\"1510.5\" y=\"-1094.3\" font-family=\"Helvetica,sans-Serif\" font-size=\"14.00\" fill=\"#000000\">herf ≤ 0.05</text>\n<text text-anchor=\"start\" x=\"1477\" y=\"-1079.3\" font-family=\"Helvetica,sans-Serif\" font-size=\"14.00\" fill=\"#000000\">squared_error = 0.02</text>\n<text text-anchor=\"start\" x=\"1497\" y=\"-1064.3\" font-family=\"Helvetica,sans-Serif\" font-size=\"14.00\" fill=\"#000000\">samples = 734</text>\n<text text-anchor=\"start\" x=\"1498.5\" y=\"-1049.3\" font-family=\"Helvetica,sans-Serif\" font-size=\"14.00\" fill=\"#000000\">value = &#45;0.025</text>\n</g>\n<!-- 1&#45;&gt;17 -->\n<g id=\"edge17\" class=\"edge\">\n<title>1&#45;&gt;17</title>\n<path fill=\"none\" stroke=\"#000000\" d=\"M967.3021,-1075.5C1089.9163,-1075.5 1330.0577,-1075.5 1458.7279,-1075.5\"/>\n<polygon fill=\"#000000\" stroke=\"#000000\" points=\"1458.9317,-1079.0001 1468.9317,-1075.5 1458.9317,-1072.0001 1458.9317,-1079.0001\"/>\n</g>\n<!-- 3 -->\n<g id=\"node4\" class=\"node\">\n<title>3</title>\n<polygon fill=\"#fcf0e7\" stroke=\"#000000\" points=\"2280.5,-1741.5 2119.5,-1741.5 2119.5,-1673.5 2280.5,-1673.5 2280.5,-1741.5\"/>\n<text text-anchor=\"start\" x=\"2145.5\" y=\"-1726.3\" font-family=\"Helvetica,sans-Serif\" font-size=\"14.00\" fill=\"#000000\">bm_ia ≤ 119.615</text>\n<text text-anchor=\"start\" x=\"2127.5\" y=\"-1711.3\" font-family=\"Helvetica,sans-Serif\" font-size=\"14.00\" fill=\"#000000\">squared_error = 0.024</text>\n<text text-anchor=\"start\" x=\"2148\" y=\"-1696.3\" font-family=\"Helvetica,sans-Serif\" font-size=\"14.00\" fill=\"#000000\">samples = 8911</text>\n<text text-anchor=\"start\" x=\"2156\" y=\"-1681.3\" font-family=\"Helvetica,sans-Serif\" font-size=\"14.00\" fill=\"#000000\">value = 0.016</text>\n</g>\n<!-- 2&#45;&gt;3 -->\n<g id=\"edge3\" class=\"edge\">\n<title>2&#45;&gt;3</title>\n<path fill=\"none\" stroke=\"#000000\" d=\"M1621.0974,-1525.4329C1742.6179,-1563.6516 1979.9856,-1638.3046 2109.8357,-1679.143\"/>\n<polygon fill=\"#000000\" stroke=\"#000000\" points=\"2108.7893,-1682.4828 2119.3787,-1682.1443 2110.8894,-1675.8053 2108.7893,-1682.4828\"/>\n</g>\n<!-- 10 -->\n<g id=\"node11\" class=\"node\">\n<title>10</title>\n<polygon fill=\"#fcf0e7\" stroke=\"#000000\" points=\"2280.5,-1535.5 2119.5,-1535.5 2119.5,-1467.5 2280.5,-1467.5 2280.5,-1535.5\"/>\n<text text-anchor=\"start\" x=\"2143\" y=\"-1520.3\" font-family=\"Helvetica,sans-Serif\" font-size=\"14.00\" fill=\"#000000\">baspread ≤ 0.067</text>\n<text text-anchor=\"start\" x=\"2127.5\" y=\"-1505.3\" font-family=\"Helvetica,sans-Serif\" font-size=\"14.00\" fill=\"#000000\">squared_error = 0.019</text>\n<text text-anchor=\"start\" x=\"2144\" y=\"-1490.3\" font-family=\"Helvetica,sans-Serif\" font-size=\"14.00\" fill=\"#000000\">samples = 43358</text>\n<text text-anchor=\"start\" x=\"2156\" y=\"-1475.3\" font-family=\"Helvetica,sans-Serif\" font-size=\"14.00\" fill=\"#000000\">value = 0.007</text>\n</g>\n<!-- 2&#45;&gt;10 -->\n<g id=\"edge10\" class=\"edge\">\n<title>2&#45;&gt;10</title>\n<path fill=\"none\" stroke=\"#000000\" d=\"M1621.0974,-1501.5C1742.3746,-1501.5 1979.0356,-1501.5 2109.0545,-1501.5\"/>\n<polygon fill=\"#000000\" stroke=\"#000000\" points=\"2109.3787,-1505.0001 2119.3787,-1501.5 2109.3787,-1498.0001 2109.3787,-1505.0001\"/>\n</g>\n<!-- 4 -->\n<g id=\"node5\" class=\"node\">\n<title>4</title>\n<polygon fill=\"#fcf0e7\" stroke=\"#000000\" points=\"2965.5,-1855.5 2804.5,-1855.5 2804.5,-1787.5 2965.5,-1787.5 2965.5,-1855.5\"/>\n<text text-anchor=\"start\" x=\"2837.5\" y=\"-1840.3\" font-family=\"Helvetica,sans-Serif\" font-size=\"14.00\" fill=\"#000000\">pctacc ≤ 8.112</text>\n<text text-anchor=\"start\" x=\"2812.5\" y=\"-1825.3\" font-family=\"Helvetica,sans-Serif\" font-size=\"14.00\" fill=\"#000000\">squared_error = 0.022</text>\n<text text-anchor=\"start\" x=\"2833\" y=\"-1810.3\" font-family=\"Helvetica,sans-Serif\" font-size=\"14.00\" fill=\"#000000\">samples = 8901</text>\n<text text-anchor=\"start\" x=\"2841\" y=\"-1795.3\" font-family=\"Helvetica,sans-Serif\" font-size=\"14.00\" fill=\"#000000\">value = 0.016</text>\n</g>\n<!-- 3&#45;&gt;4 -->\n<g id=\"edge4\" class=\"edge\">\n<title>3&#45;&gt;4</title>\n<path fill=\"none\" stroke=\"#000000\" d=\"M2280.5925,-1720.9125C2409.2011,-1742.3159 2660.0195,-1784.058 2794.5701,-1806.4504\"/>\n<polygon fill=\"#000000\" stroke=\"#000000\" points=\"2794.0104,-1809.9053 2804.4493,-1808.0945 2795.1596,-1803.0002 2794.0104,-1809.9053\"/>\n</g>\n<!-- 7 -->\n<g id=\"node8\" class=\"node\">\n<title>7</title>\n<polygon fill=\"#fae6d7\" stroke=\"#000000\" points=\"2965.5,-1741.5 2804.5,-1741.5 2804.5,-1673.5 2965.5,-1673.5 2965.5,-1741.5\"/>\n<text text-anchor=\"start\" x=\"2828.5\" y=\"-1726.3\" font-family=\"Helvetica,sans-Serif\" font-size=\"14.00\" fill=\"#000000\">mom36m ≤ 0.273</text>\n<text text-anchor=\"start\" x=\"2812.5\" y=\"-1711.3\" font-family=\"Helvetica,sans-Serif\" font-size=\"14.00\" fill=\"#000000\">squared_error = 1.759</text>\n<text text-anchor=\"start\" x=\"2841\" y=\"-1696.3\" font-family=\"Helvetica,sans-Serif\" font-size=\"14.00\" fill=\"#000000\">samples = 10</text>\n<text text-anchor=\"start\" x=\"2841\" y=\"-1681.3\" font-family=\"Helvetica,sans-Serif\" font-size=\"14.00\" fill=\"#000000\">value = 0.415</text>\n</g>\n<!-- 3&#45;&gt;7 -->\n<g id=\"edge7\" class=\"edge\">\n<title>3&#45;&gt;7</title>\n<path fill=\"none\" stroke=\"#000000\" d=\"M2280.5925,-1707.5C2409.0723,-1707.5 2659.5175,-1707.5 2794.1657,-1707.5\"/>\n<polygon fill=\"#000000\" stroke=\"#000000\" points=\"2794.4494,-1711.0001 2804.4493,-1707.5 2794.4493,-1704.0001 2794.4494,-1711.0001\"/>\n</g>\n<!-- 5 -->\n<g id=\"node6\" class=\"node\">\n<title>5</title>\n<polygon fill=\"#fcf0e7\" stroke=\"#000000\" points=\"3647,-1919 3495,-1919 3495,-1866 3647,-1866 3647,-1919\"/>\n<text text-anchor=\"start\" x=\"3503\" y=\"-1903.8\" font-family=\"Helvetica,sans-Serif\" font-size=\"14.00\" fill=\"#000000\">squared_error = 0.02</text>\n<text text-anchor=\"start\" x=\"3519\" y=\"-1888.8\" font-family=\"Helvetica,sans-Serif\" font-size=\"14.00\" fill=\"#000000\">samples = 8885</text>\n<text text-anchor=\"start\" x=\"3527\" y=\"-1873.8\" font-family=\"Helvetica,sans-Serif\" font-size=\"14.00\" fill=\"#000000\">value = 0.015</text>\n</g>\n<!-- 4&#45;&gt;5 -->\n<g id=\"edge5\" class=\"edge\">\n<title>4&#45;&gt;5</title>\n<path fill=\"none\" stroke=\"#000000\" d=\"M2965.7102,-1829.8534C3095.8446,-1843.3221 3350.9236,-1869.7224 3484.5999,-1883.5577\"/>\n<polygon fill=\"#000000\" stroke=\"#000000\" points=\"3484.4888,-1887.0648 3494.796,-1884.613 3485.2095,-1880.102 3484.4888,-1887.0648\"/>\n</g>\n<!-- 6 -->\n<g id=\"node7\" class=\"node\">\n<title>6</title>\n<polygon fill=\"#fae9dd\" stroke=\"#000000\" points=\"3651.5,-1848 3490.5,-1848 3490.5,-1795 3651.5,-1795 3651.5,-1848\"/>\n<text text-anchor=\"start\" x=\"3498.5\" y=\"-1832.8\" font-family=\"Helvetica,sans-Serif\" font-size=\"14.00\" fill=\"#000000\">squared_error = 1.011</text>\n<text text-anchor=\"start\" x=\"3527\" y=\"-1817.8\" font-family=\"Helvetica,sans-Serif\" font-size=\"14.00\" fill=\"#000000\">samples = 16</text>\n<text text-anchor=\"start\" x=\"3527\" y=\"-1802.8\" font-family=\"Helvetica,sans-Serif\" font-size=\"14.00\" fill=\"#000000\">value = 0.281</text>\n</g>\n<!-- 4&#45;&gt;6 -->\n<g id=\"edge6\" class=\"edge\">\n<title>4&#45;&gt;6</title>\n<path fill=\"none\" stroke=\"#000000\" d=\"M2965.7102,-1821.5C3094.3775,-1821.5 3345.1883,-1821.5 3480.0331,-1821.5\"/>\n<polygon fill=\"#000000\" stroke=\"#000000\" points=\"3480.3318,-1825.0001 3490.3317,-1821.5 3480.3317,-1818.0001 3480.3318,-1825.0001\"/>\n</g>\n<!-- 8 -->\n<g id=\"node9\" class=\"node\">\n<title>8</title>\n<polygon fill=\"#e58139\" stroke=\"#000000\" points=\"3643,-1777 3499,-1777 3499,-1724 3643,-1724 3643,-1777\"/>\n<text text-anchor=\"start\" x=\"3507\" y=\"-1761.8\" font-family=\"Helvetica,sans-Serif\" font-size=\"14.00\" fill=\"#000000\">squared_error = 0.0</text>\n<text text-anchor=\"start\" x=\"3531.5\" y=\"-1746.8\" font-family=\"Helvetica,sans-Serif\" font-size=\"14.00\" fill=\"#000000\">samples = 1</text>\n<text text-anchor=\"start\" x=\"3527\" y=\"-1731.8\" font-family=\"Helvetica,sans-Serif\" font-size=\"14.00\" fill=\"#000000\">value = 4.389</text>\n</g>\n<!-- 7&#45;&gt;8 -->\n<g id=\"edge8\" class=\"edge\">\n<title>7&#45;&gt;8</title>\n<path fill=\"none\" stroke=\"#000000\" d=\"M2965.7102,-1712.5591C3097.2253,-1720.8028 3356.3505,-1737.0453 3488.8136,-1745.3484\"/>\n<polygon fill=\"#000000\" stroke=\"#000000\" points=\"3488.7046,-1748.8483 3498.904,-1745.9809 3489.1426,-1741.862 3488.7046,-1748.8483\"/>\n</g>\n<!-- 9 -->\n<g id=\"node10\" class=\"node\">\n<title>9</title>\n<polygon fill=\"#fcf1e9\" stroke=\"#000000\" points=\"3651.5,-1706 3490.5,-1706 3490.5,-1653 3651.5,-1653 3651.5,-1706\"/>\n<text text-anchor=\"start\" x=\"3498.5\" y=\"-1690.8\" font-family=\"Helvetica,sans-Serif\" font-size=\"14.00\" fill=\"#000000\">squared_error = 0.005</text>\n<text text-anchor=\"start\" x=\"3531.5\" y=\"-1675.8\" font-family=\"Helvetica,sans-Serif\" font-size=\"14.00\" fill=\"#000000\">samples = 9</text>\n<text text-anchor=\"start\" x=\"3524.5\" y=\"-1660.8\" font-family=\"Helvetica,sans-Serif\" font-size=\"14.00\" fill=\"#000000\">value = &#45;0.026</text>\n</g>\n<!-- 7&#45;&gt;9 -->\n<g id=\"edge9\" class=\"edge\">\n<title>7&#45;&gt;9</title>\n<path fill=\"none\" stroke=\"#000000\" d=\"M2965.7102,-1704.2057C3094.3775,-1698.954 3345.1883,-1688.7168 3480.0331,-1683.2129\"/>\n<polygon fill=\"#000000\" stroke=\"#000000\" points=\"3480.4828,-1686.6976 3490.3317,-1682.7926 3480.1973,-1679.7034 3480.4828,-1686.6976\"/>\n</g>\n<!-- 11 -->\n<g id=\"node12\" class=\"node\">\n<title>11</title>\n<polygon fill=\"#fcf0e7\" stroke=\"#000000\" points=\"2965.5,-1578.5 2804.5,-1578.5 2804.5,-1510.5 2965.5,-1510.5 2965.5,-1578.5\"/>\n<text text-anchor=\"start\" x=\"2828\" y=\"-1563.3\" font-family=\"Helvetica,sans-Serif\" font-size=\"14.00\" fill=\"#000000\">baspread ≤ 0.067</text>\n<text text-anchor=\"start\" x=\"2812.5\" y=\"-1548.3\" font-family=\"Helvetica,sans-Serif\" font-size=\"14.00\" fill=\"#000000\">squared_error = 0.019</text>\n<text text-anchor=\"start\" x=\"2829\" y=\"-1533.3\" font-family=\"Helvetica,sans-Serif\" font-size=\"14.00\" fill=\"#000000\">samples = 40435</text>\n<text text-anchor=\"start\" x=\"2841\" y=\"-1518.3\" font-family=\"Helvetica,sans-Serif\" font-size=\"14.00\" fill=\"#000000\">value = 0.008</text>\n</g>\n<!-- 10&#45;&gt;11 -->\n<g id=\"edge11\" class=\"edge\">\n<title>10&#45;&gt;11</title>\n<path fill=\"none\" stroke=\"#000000\" d=\"M2280.5925,-1506.5591C2409.0723,-1514.6242 2659.5175,-1530.3456 2794.1657,-1538.798\"/>\n<polygon fill=\"#000000\" stroke=\"#000000\" points=\"2794.2497,-1542.3101 2804.4493,-1539.4435 2794.6883,-1535.3238 2794.2497,-1542.3101\"/>\n</g>\n<!-- 14 -->\n<g id=\"node15\" class=\"node\">\n<title>14</title>\n<polygon fill=\"#fcf0e8\" stroke=\"#000000\" points=\"2965.5,-1492.5 2804.5,-1492.5 2804.5,-1424.5 2965.5,-1424.5 2965.5,-1492.5\"/>\n<text text-anchor=\"start\" x=\"2837\" y=\"-1477.3\" font-family=\"Helvetica,sans-Serif\" font-size=\"14.00\" fill=\"#000000\">indmom ≤ 0.23</text>\n<text text-anchor=\"start\" x=\"2812.5\" y=\"-1462.3\" font-family=\"Helvetica,sans-Serif\" font-size=\"14.00\" fill=\"#000000\">squared_error = 0.017</text>\n<text text-anchor=\"start\" x=\"2833\" y=\"-1447.3\" font-family=\"Helvetica,sans-Serif\" font-size=\"14.00\" fill=\"#000000\">samples = 2923</text>\n<text text-anchor=\"start\" x=\"2838.5\" y=\"-1432.3\" font-family=\"Helvetica,sans-Serif\" font-size=\"14.00\" fill=\"#000000\">value = &#45;0.004</text>\n</g>\n<!-- 10&#45;&gt;14 -->\n<g id=\"edge14\" class=\"edge\">\n<title>10&#45;&gt;14</title>\n<path fill=\"none\" stroke=\"#000000\" d=\"M2280.5925,-1496.4409C2409.0723,-1488.3758 2659.5175,-1472.6544 2794.1657,-1464.202\"/>\n<polygon fill=\"#000000\" stroke=\"#000000\" points=\"2794.6883,-1467.6762 2804.4493,-1463.5565 2794.2497,-1460.6899 2794.6883,-1467.6762\"/>\n</g>\n<!-- 12 -->\n<g id=\"node13\" class=\"node\">\n<title>12</title>\n<polygon fill=\"#fcf0e7\" stroke=\"#000000\" points=\"3651.5,-1635 3490.5,-1635 3490.5,-1582 3651.5,-1582 3651.5,-1635\"/>\n<text text-anchor=\"start\" x=\"3498.5\" y=\"-1619.8\" font-family=\"Helvetica,sans-Serif\" font-size=\"14.00\" fill=\"#000000\">squared_error = 0.019</text>\n<text text-anchor=\"start\" x=\"3515\" y=\"-1604.8\" font-family=\"Helvetica,sans-Serif\" font-size=\"14.00\" fill=\"#000000\">samples = 40428</text>\n<text text-anchor=\"start\" x=\"3527\" y=\"-1589.8\" font-family=\"Helvetica,sans-Serif\" font-size=\"14.00\" fill=\"#000000\">value = 0.008</text>\n</g>\n<!-- 11&#45;&gt;12 -->\n<g id=\"edge12\" class=\"edge\">\n<title>11&#45;&gt;12</title>\n<path fill=\"none\" stroke=\"#000000\" d=\"M2965.7102,-1552.0298C3094.3775,-1564.0338 3345.1883,-1587.433 3480.0331,-1600.0133\"/>\n<polygon fill=\"#000000\" stroke=\"#000000\" points=\"3480.0498,-1603.53 3490.3317,-1600.9741 3480.7001,-1596.5602 3480.0498,-1603.53\"/>\n</g>\n<!-- 13 -->\n<g id=\"node14\" class=\"node\">\n<title>13</title>\n<polygon fill=\"#f9e3d3\" stroke=\"#000000\" points=\"3651.5,-1564 3490.5,-1564 3490.5,-1511 3651.5,-1511 3651.5,-1564\"/>\n<text text-anchor=\"start\" x=\"3498.5\" y=\"-1548.8\" font-family=\"Helvetica,sans-Serif\" font-size=\"14.00\" fill=\"#000000\">squared_error = 0.973</text>\n<text text-anchor=\"start\" x=\"3531.5\" y=\"-1533.8\" font-family=\"Helvetica,sans-Serif\" font-size=\"14.00\" fill=\"#000000\">samples = 7</text>\n<text text-anchor=\"start\" x=\"3527\" y=\"-1518.8\" font-family=\"Helvetica,sans-Serif\" font-size=\"14.00\" fill=\"#000000\">value = 0.514</text>\n</g>\n<!-- 11&#45;&gt;13 -->\n<g id=\"edge13\" class=\"edge\">\n<title>11&#45;&gt;13</title>\n<path fill=\"none\" stroke=\"#000000\" d=\"M2965.7102,-1543.6764C3094.3775,-1542.3635 3345.1883,-1539.8042 3480.0331,-1538.4282\"/>\n<polygon fill=\"#000000\" stroke=\"#000000\" points=\"3480.368,-1541.9251 3490.3317,-1538.3231 3480.2965,-1534.9255 3480.368,-1541.9251\"/>\n</g>\n<!-- 15 -->\n<g id=\"node16\" class=\"node\">\n<title>15</title>\n<polygon fill=\"#fcf0e8\" stroke=\"#000000\" points=\"3651.5,-1493 3490.5,-1493 3490.5,-1440 3651.5,-1440 3651.5,-1493\"/>\n<text text-anchor=\"start\" x=\"3498.5\" y=\"-1477.8\" font-family=\"Helvetica,sans-Serif\" font-size=\"14.00\" fill=\"#000000\">squared_error = 0.019</text>\n<text text-anchor=\"start\" x=\"3519\" y=\"-1462.8\" font-family=\"Helvetica,sans-Serif\" font-size=\"14.00\" fill=\"#000000\">samples = 2105</text>\n<text text-anchor=\"start\" x=\"3527\" y=\"-1447.8\" font-family=\"Helvetica,sans-Serif\" font-size=\"14.00\" fill=\"#000000\">value = 0.005</text>\n</g>\n<!-- 14&#45;&gt;15 -->\n<g id=\"edge15\" class=\"edge\">\n<title>14&#45;&gt;15</title>\n<path fill=\"none\" stroke=\"#000000\" d=\"M2965.7102,-1459.4412C3094.3775,-1460.9417 3345.1883,-1463.8666 3480.0331,-1465.4392\"/>\n<polygon fill=\"#000000\" stroke=\"#000000\" points=\"3480.2916,-1468.9423 3490.3317,-1465.5593 3480.3733,-1461.9428 3480.2916,-1468.9423\"/>\n</g>\n<!-- 16 -->\n<g id=\"node17\" class=\"node\">\n<title>16</title>\n<polygon fill=\"#fcf1e9\" stroke=\"#000000\" points=\"3651.5,-1422 3490.5,-1422 3490.5,-1369 3651.5,-1369 3651.5,-1422\"/>\n<text text-anchor=\"start\" x=\"3498.5\" y=\"-1406.8\" font-family=\"Helvetica,sans-Serif\" font-size=\"14.00\" fill=\"#000000\">squared_error = 0.013</text>\n<text text-anchor=\"start\" x=\"3523\" y=\"-1391.8\" font-family=\"Helvetica,sans-Serif\" font-size=\"14.00\" fill=\"#000000\">samples = 818</text>\n<text text-anchor=\"start\" x=\"3524.5\" y=\"-1376.8\" font-family=\"Helvetica,sans-Serif\" font-size=\"14.00\" fill=\"#000000\">value = &#45;0.027</text>\n</g>\n<!-- 14&#45;&gt;16 -->\n<g id=\"edge16\" class=\"edge\">\n<title>14&#45;&gt;16</title>\n<path fill=\"none\" stroke=\"#000000\" d=\"M2965.7102,-1451.0878C3094.3775,-1439.2715 3345.1883,-1416.2378 3480.0331,-1403.8541\"/>\n<polygon fill=\"#000000\" stroke=\"#000000\" points=\"3480.6938,-1407.3083 3490.3317,-1402.9083 3480.0535,-1400.3376 3480.6938,-1407.3083\"/>\n</g>\n<!-- 18 -->\n<g id=\"node19\" class=\"node\">\n<title>18</title>\n<polygon fill=\"#fcf2ea\" stroke=\"#000000\" points=\"2276,-1173.5 2124,-1173.5 2124,-1105.5 2276,-1105.5 2276,-1173.5\"/>\n<text text-anchor=\"start\" x=\"2165\" y=\"-1158.3\" font-family=\"Helvetica,sans-Serif\" font-size=\"14.00\" fill=\"#000000\">sic2 ≤ 35.5</text>\n<text text-anchor=\"start\" x=\"2132\" y=\"-1143.3\" font-family=\"Helvetica,sans-Serif\" font-size=\"14.00\" fill=\"#000000\">squared_error = 0.02</text>\n<text text-anchor=\"start\" x=\"2152\" y=\"-1128.3\" font-family=\"Helvetica,sans-Serif\" font-size=\"14.00\" fill=\"#000000\">samples = 398</text>\n<text text-anchor=\"start\" x=\"2153.5\" y=\"-1113.3\" font-family=\"Helvetica,sans-Serif\" font-size=\"14.00\" fill=\"#000000\">value = &#45;0.055</text>\n</g>\n<!-- 17&#45;&gt;18 -->\n<g id=\"edge18\" class=\"edge\">\n<title>17&#45;&gt;18</title>\n<path fill=\"none\" stroke=\"#000000\" d=\"M1621.0974,-1082.9355C1743.8516,-1094.9298 1984.8171,-1118.4745 2113.757,-1131.0732\"/>\n<polygon fill=\"#000000\" stroke=\"#000000\" points=\"2113.6885,-1134.5831 2123.9815,-1132.0722 2114.3693,-1127.6163 2113.6885,-1134.5831\"/>\n</g>\n<!-- 25 -->\n<g id=\"node26\" class=\"node\">\n<title>25</title>\n<polygon fill=\"#fcf0e7\" stroke=\"#000000\" points=\"2280.5,-1046.5 2119.5,-1046.5 2119.5,-978.5 2280.5,-978.5 2280.5,-1046.5\"/>\n<text text-anchor=\"start\" x=\"2161.5\" y=\"-1031.3\" font-family=\"Helvetica,sans-Serif\" font-size=\"14.00\" fill=\"#000000\">turn ≤ 1.116</text>\n<text text-anchor=\"start\" x=\"2127.5\" y=\"-1016.3\" font-family=\"Helvetica,sans-Serif\" font-size=\"14.00\" fill=\"#000000\">squared_error = 0.017</text>\n<text text-anchor=\"start\" x=\"2152\" y=\"-1001.3\" font-family=\"Helvetica,sans-Serif\" font-size=\"14.00\" fill=\"#000000\">samples = 336</text>\n<text text-anchor=\"start\" x=\"2160\" y=\"-986.3\" font-family=\"Helvetica,sans-Serif\" font-size=\"14.00\" fill=\"#000000\">value = 0.01</text>\n</g>\n<!-- 17&#45;&gt;25 -->\n<g id=\"edge25\" class=\"edge\">\n<title>17&#45;&gt;25</title>\n<path fill=\"none\" stroke=\"#000000\" d=\"M1621.0974,-1068.1807C1742.3746,-1056.5159 1979.0356,-1033.7531 2109.0545,-1021.2474\"/>\n<polygon fill=\"#000000\" stroke=\"#000000\" points=\"2109.7598,-1024.6958 2119.3787,-1020.2544 2109.0895,-1017.728 2109.7598,-1024.6958\"/>\n</g>\n<!-- 19 -->\n<g id=\"node20\" class=\"node\">\n<title>19</title>\n<polygon fill=\"#fdf3ec\" stroke=\"#000000\" points=\"2975,-1287.5 2795,-1287.5 2795,-1219.5 2975,-1219.5 2975,-1287.5\"/>\n<text text-anchor=\"start\" x=\"2803\" y=\"-1272.3\" font-family=\"Helvetica,sans-Serif\" font-size=\"14.00\" fill=\"#000000\">pchsale_pchrect ≤ &#45;0.874</text>\n<text text-anchor=\"start\" x=\"2817\" y=\"-1257.3\" font-family=\"Helvetica,sans-Serif\" font-size=\"14.00\" fill=\"#000000\">squared_error = 0.03</text>\n<text text-anchor=\"start\" x=\"2841\" y=\"-1242.3\" font-family=\"Helvetica,sans-Serif\" font-size=\"14.00\" fill=\"#000000\">samples = 79</text>\n<text text-anchor=\"start\" x=\"2838.5\" y=\"-1227.3\" font-family=\"Helvetica,sans-Serif\" font-size=\"14.00\" fill=\"#000000\">value = &#45;0.107</text>\n</g>\n<!-- 18&#45;&gt;19 -->\n<g id=\"edge19\" class=\"edge\">\n<title>18&#45;&gt;19</title>\n<path fill=\"none\" stroke=\"#000000\" d=\"M2276.254,-1152.1904C2400.4321,-1172.8566 2646.3329,-1213.7802 2784.5785,-1236.7875\"/>\n<polygon fill=\"#000000\" stroke=\"#000000\" points=\"2784.3125,-1240.2913 2794.7514,-1238.4805 2785.4617,-1233.3863 2784.3125,-1240.2913\"/>\n</g>\n<!-- 22 -->\n<g id=\"node23\" class=\"node\">\n<title>22</title>\n<polygon fill=\"#fcf1e9\" stroke=\"#000000\" points=\"2965.5,-1173.5 2804.5,-1173.5 2804.5,-1105.5 2965.5,-1105.5 2965.5,-1173.5\"/>\n<text text-anchor=\"start\" x=\"2838\" y=\"-1158.3\" font-family=\"Helvetica,sans-Serif\" font-size=\"14.00\" fill=\"#000000\">idiovol ≤ 0.104</text>\n<text text-anchor=\"start\" x=\"2812.5\" y=\"-1143.3\" font-family=\"Helvetica,sans-Serif\" font-size=\"14.00\" fill=\"#000000\">squared_error = 0.017</text>\n<text text-anchor=\"start\" x=\"2837\" y=\"-1128.3\" font-family=\"Helvetica,sans-Serif\" font-size=\"14.00\" fill=\"#000000\">samples = 319</text>\n<text text-anchor=\"start\" x=\"2838.5\" y=\"-1113.3\" font-family=\"Helvetica,sans-Serif\" font-size=\"14.00\" fill=\"#000000\">value = &#45;0.042</text>\n</g>\n<!-- 18&#45;&gt;22 -->\n<g id=\"edge22\" class=\"edge\">\n<title>18&#45;&gt;22</title>\n<path fill=\"none\" stroke=\"#000000\" d=\"M2276.254,-1139.5C2403.2817,-1139.5 2657.6827,-1139.5 2793.9228,-1139.5\"/>\n<polygon fill=\"#000000\" stroke=\"#000000\" points=\"2794.326,-1143.0001 2804.3259,-1139.5 2794.3259,-1136.0001 2794.326,-1143.0001\"/>\n</g>\n<!-- 20 -->\n<g id=\"node21\" class=\"node\">\n<title>20</title>\n<polygon fill=\"#fffefd\" stroke=\"#000000\" points=\"3651.5,-1351 3490.5,-1351 3490.5,-1298 3651.5,-1298 3651.5,-1351\"/>\n<text text-anchor=\"start\" x=\"3498.5\" y=\"-1335.8\" font-family=\"Helvetica,sans-Serif\" font-size=\"14.00\" fill=\"#000000\">squared_error = 0.217</text>\n<text text-anchor=\"start\" x=\"3531.5\" y=\"-1320.8\" font-family=\"Helvetica,sans-Serif\" font-size=\"14.00\" fill=\"#000000\">samples = 2</text>\n<text text-anchor=\"start\" x=\"3524.5\" y=\"-1305.8\" font-family=\"Helvetica,sans-Serif\" font-size=\"14.00\" fill=\"#000000\">value = &#45;0.525</text>\n</g>\n<!-- 19&#45;&gt;20 -->\n<g id=\"edge20\" class=\"edge\">\n<title>19&#45;&gt;20</title>\n<path fill=\"none\" stroke=\"#000000\" d=\"M2975.035,-1262.8185C3106.2936,-1276.4036 3348.837,-1301.5064 3480.409,-1315.124\"/>\n<polygon fill=\"#000000\" stroke=\"#000000\" points=\"3480.1551,-1318.6163 3490.4623,-1316.1645 3480.8758,-1311.6535 3480.1551,-1318.6163\"/>\n</g>\n<!-- 21 -->\n<g id=\"node22\" class=\"node\">\n<title>21</title>\n<polygon fill=\"#fcf3ec\" stroke=\"#000000\" points=\"3647,-1280 3495,-1280 3495,-1227 3647,-1227 3647,-1280\"/>\n<text text-anchor=\"start\" x=\"3503\" y=\"-1264.8\" font-family=\"Helvetica,sans-Serif\" font-size=\"14.00\" fill=\"#000000\">squared_error = 0.02</text>\n<text text-anchor=\"start\" x=\"3527\" y=\"-1249.8\" font-family=\"Helvetica,sans-Serif\" font-size=\"14.00\" fill=\"#000000\">samples = 77</text>\n<text text-anchor=\"start\" x=\"3524.5\" y=\"-1234.8\" font-family=\"Helvetica,sans-Serif\" font-size=\"14.00\" fill=\"#000000\">value = &#45;0.096</text>\n</g>\n<!-- 19&#45;&gt;21 -->\n<g id=\"edge21\" class=\"edge\">\n<title>19&#45;&gt;21</title>\n<path fill=\"none\" stroke=\"#000000\" d=\"M2975.035,-1253.5C3107.6662,-1253.5 3353.9219,-1253.5 3484.5001,-1253.5\"/>\n<polygon fill=\"#000000\" stroke=\"#000000\" points=\"3484.8497,-1257.0001 3494.8497,-1253.5 3484.8497,-1250.0001 3484.8497,-1257.0001\"/>\n</g>\n<!-- 23 -->\n<g id=\"node24\" class=\"node\">\n<title>23</title>\n<polygon fill=\"#fcf1e9\" stroke=\"#000000\" points=\"3651.5,-1209 3490.5,-1209 3490.5,-1156 3651.5,-1156 3651.5,-1209\"/>\n<text text-anchor=\"start\" x=\"3498.5\" y=\"-1193.8\" font-family=\"Helvetica,sans-Serif\" font-size=\"14.00\" fill=\"#000000\">squared_error = 0.017</text>\n<text text-anchor=\"start\" x=\"3523\" y=\"-1178.8\" font-family=\"Helvetica,sans-Serif\" font-size=\"14.00\" fill=\"#000000\">samples = 278</text>\n<text text-anchor=\"start\" x=\"3524.5\" y=\"-1163.8\" font-family=\"Helvetica,sans-Serif\" font-size=\"14.00\" fill=\"#000000\">value = &#45;0.031</text>\n</g>\n<!-- 22&#45;&gt;23 -->\n<g id=\"edge23\" class=\"edge\">\n<title>22&#45;&gt;23</title>\n<path fill=\"none\" stroke=\"#000000\" d=\"M2965.7102,-1144.5591C3094.3775,-1152.6242 3345.1883,-1168.3456 3480.0331,-1176.798\"/>\n<polygon fill=\"#000000\" stroke=\"#000000\" points=\"3480.1323,-1180.311 3490.3317,-1177.4435 3480.5703,-1173.3247 3480.1323,-1180.311\"/>\n</g>\n<!-- 24 -->\n<g id=\"node25\" class=\"node\">\n<title>24</title>\n<polygon fill=\"#fdf3ec\" stroke=\"#000000\" points=\"3651.5,-1138 3490.5,-1138 3490.5,-1085 3651.5,-1085 3651.5,-1138\"/>\n<text text-anchor=\"start\" x=\"3498.5\" y=\"-1122.8\" font-family=\"Helvetica,sans-Serif\" font-size=\"14.00\" fill=\"#000000\">squared_error = 0.009</text>\n<text text-anchor=\"start\" x=\"3527\" y=\"-1107.8\" font-family=\"Helvetica,sans-Serif\" font-size=\"14.00\" fill=\"#000000\">samples = 41</text>\n<text text-anchor=\"start\" x=\"3528.5\" y=\"-1092.8\" font-family=\"Helvetica,sans-Serif\" font-size=\"14.00\" fill=\"#000000\">value = &#45;0.11</text>\n</g>\n<!-- 22&#45;&gt;24 -->\n<g id=\"edge24\" class=\"edge\">\n<title>22&#45;&gt;24</title>\n<path fill=\"none\" stroke=\"#000000\" d=\"M2965.7102,-1136.2057C3094.3775,-1130.954 3345.1883,-1120.7168 3480.0331,-1115.2129\"/>\n<polygon fill=\"#000000\" stroke=\"#000000\" points=\"3480.4828,-1118.6976 3490.3317,-1114.7926 3480.1973,-1111.7034 3480.4828,-1118.6976\"/>\n</g>\n<!-- 26 -->\n<g id=\"node27\" class=\"node\">\n<title>26</title>\n<polygon fill=\"#fcefe6\" stroke=\"#000000\" points=\"2965.5,-1046.5 2804.5,-1046.5 2804.5,-978.5 2965.5,-978.5 2965.5,-1046.5\"/>\n<text text-anchor=\"start\" x=\"2827\" y=\"-1031.3\" font-family=\"Helvetica,sans-Serif\" font-size=\"14.00\" fill=\"#000000\">salerec ≤ 152.574</text>\n<text text-anchor=\"start\" x=\"2812.5\" y=\"-1016.3\" font-family=\"Helvetica,sans-Serif\" font-size=\"14.00\" fill=\"#000000\">squared_error = 0.019</text>\n<text text-anchor=\"start\" x=\"2837\" y=\"-1001.3\" font-family=\"Helvetica,sans-Serif\" font-size=\"14.00\" fill=\"#000000\">samples = 132</text>\n<text text-anchor=\"start\" x=\"2841\" y=\"-986.3\" font-family=\"Helvetica,sans-Serif\" font-size=\"14.00\" fill=\"#000000\">value = 0.054</text>\n</g>\n<!-- 25&#45;&gt;26 -->\n<g id=\"edge26\" class=\"edge\">\n<title>25&#45;&gt;26</title>\n<path fill=\"none\" stroke=\"#000000\" d=\"M2280.5925,-1012.5C2409.0723,-1012.5 2659.5175,-1012.5 2794.1657,-1012.5\"/>\n<polygon fill=\"#000000\" stroke=\"#000000\" points=\"2794.4494,-1016.0001 2804.4493,-1012.5 2794.4493,-1009.0001 2794.4494,-1016.0001\"/>\n</g>\n<!-- 29 -->\n<g id=\"node30\" class=\"node\">\n<title>29</title>\n<polygon fill=\"#fcf1e8\" stroke=\"#000000\" points=\"2965.5,-932.5 2804.5,-932.5 2804.5,-864.5 2965.5,-864.5 2965.5,-932.5\"/>\n<text text-anchor=\"start\" x=\"2832.5\" y=\"-917.3\" font-family=\"Helvetica,sans-Serif\" font-size=\"14.00\" fill=\"#000000\">chmom ≤ &#45;3.396</text>\n<text text-anchor=\"start\" x=\"2812.5\" y=\"-902.3\" font-family=\"Helvetica,sans-Serif\" font-size=\"14.00\" fill=\"#000000\">squared_error = 0.014</text>\n<text text-anchor=\"start\" x=\"2837\" y=\"-887.3\" font-family=\"Helvetica,sans-Serif\" font-size=\"14.00\" fill=\"#000000\">samples = 204</text>\n<text text-anchor=\"start\" x=\"2838.5\" y=\"-872.3\" font-family=\"Helvetica,sans-Serif\" font-size=\"14.00\" fill=\"#000000\">value = &#45;0.018</text>\n</g>\n<!-- 25&#45;&gt;29 -->\n<g id=\"edge29\" class=\"edge\">\n<title>25&#45;&gt;29</title>\n<path fill=\"none\" stroke=\"#000000\" d=\"M2280.5925,-999.0875C2409.2011,-977.6841 2660.0195,-935.942 2794.5701,-913.5496\"/>\n<polygon fill=\"#000000\" stroke=\"#000000\" points=\"2795.1596,-916.9998 2804.4493,-911.9055 2794.0104,-910.0947 2795.1596,-916.9998\"/>\n</g>\n<!-- 27 -->\n<g id=\"node28\" class=\"node\">\n<title>27</title>\n<polygon fill=\"#fcefe6\" stroke=\"#000000\" points=\"3651.5,-1067 3490.5,-1067 3490.5,-1014 3651.5,-1014 3651.5,-1067\"/>\n<text text-anchor=\"start\" x=\"3498.5\" y=\"-1051.8\" font-family=\"Helvetica,sans-Serif\" font-size=\"14.00\" fill=\"#000000\">squared_error = 0.017</text>\n<text text-anchor=\"start\" x=\"3523\" y=\"-1036.8\" font-family=\"Helvetica,sans-Serif\" font-size=\"14.00\" fill=\"#000000\">samples = 131</text>\n<text text-anchor=\"start\" x=\"3527\" y=\"-1021.8\" font-family=\"Helvetica,sans-Serif\" font-size=\"14.00\" fill=\"#000000\">value = 0.051</text>\n</g>\n<!-- 26&#45;&gt;27 -->\n<g id=\"edge27\" class=\"edge\">\n<title>26&#45;&gt;27</title>\n<path fill=\"none\" stroke=\"#000000\" d=\"M2965.7102,-1015.7943C3094.3775,-1021.046 3345.1883,-1031.2832 3480.0331,-1036.7871\"/>\n<polygon fill=\"#000000\" stroke=\"#000000\" points=\"3480.1973,-1040.2966 3490.3317,-1037.2074 3480.4828,-1033.3024 3480.1973,-1040.2966\"/>\n</g>\n<!-- 28 -->\n<g id=\"node29\" class=\"node\">\n<title>28</title>\n<polygon fill=\"#f9e4d4\" stroke=\"#000000\" points=\"3645.5,-996 3496.5,-996 3496.5,-943 3645.5,-943 3645.5,-996\"/>\n<text text-anchor=\"start\" x=\"3504.5\" y=\"-980.8\" font-family=\"Helvetica,sans-Serif\" font-size=\"14.00\" fill=\"#000000\">squared_error = &#45;0.0</text>\n<text text-anchor=\"start\" x=\"3531.5\" y=\"-965.8\" font-family=\"Helvetica,sans-Serif\" font-size=\"14.00\" fill=\"#000000\">samples = 1</text>\n<text text-anchor=\"start\" x=\"3535\" y=\"-950.8\" font-family=\"Helvetica,sans-Serif\" font-size=\"14.00\" fill=\"#000000\">value = 0.5</text>\n</g>\n<!-- 26&#45;&gt;28 -->\n<g id=\"edge28\" class=\"edge\">\n<title>26&#45;&gt;28</title>\n<path fill=\"none\" stroke=\"#000000\" d=\"M2965.7102,-1007.4409C3096.3623,-999.2513 3352.9554,-983.1675 3486.1897,-974.8161\"/>\n<polygon fill=\"#000000\" stroke=\"#000000\" points=\"3486.5858,-978.2982 3496.3473,-974.1794 3486.1479,-971.3119 3486.5858,-978.2982\"/>\n</g>\n<!-- 30 -->\n<g id=\"node31\" class=\"node\">\n<title>30</title>\n<polygon fill=\"#ffffff\" stroke=\"#000000\" points=\"3643,-925 3499,-925 3499,-872 3643,-872 3643,-925\"/>\n<text text-anchor=\"start\" x=\"3507\" y=\"-909.8\" font-family=\"Helvetica,sans-Serif\" font-size=\"14.00\" fill=\"#000000\">squared_error = 0.0</text>\n<text text-anchor=\"start\" x=\"3531.5\" y=\"-894.8\" font-family=\"Helvetica,sans-Serif\" font-size=\"14.00\" fill=\"#000000\">samples = 1</text>\n<text text-anchor=\"start\" x=\"3524.5\" y=\"-879.8\" font-family=\"Helvetica,sans-Serif\" font-size=\"14.00\" fill=\"#000000\">value = &#45;0.585</text>\n</g>\n<!-- 29&#45;&gt;30 -->\n<g id=\"edge30\" class=\"edge\">\n<title>29&#45;&gt;30</title>\n<path fill=\"none\" stroke=\"#000000\" d=\"M2965.7102,-898.5C3097.2253,-898.5 3356.3505,-898.5 3488.8136,-898.5\"/>\n<polygon fill=\"#000000\" stroke=\"#000000\" points=\"3488.904,-902.0001 3498.904,-898.5 3488.904,-895.0001 3488.904,-902.0001\"/>\n</g>\n<!-- 31 -->\n<g id=\"node32\" class=\"node\">\n<title>31</title>\n<polygon fill=\"#fcf1e8\" stroke=\"#000000\" points=\"3651.5,-854 3490.5,-854 3490.5,-801 3651.5,-801 3651.5,-854\"/>\n<text text-anchor=\"start\" x=\"3498.5\" y=\"-838.8\" font-family=\"Helvetica,sans-Serif\" font-size=\"14.00\" fill=\"#000000\">squared_error = 0.012</text>\n<text text-anchor=\"start\" x=\"3523\" y=\"-823.8\" font-family=\"Helvetica,sans-Serif\" font-size=\"14.00\" fill=\"#000000\">samples = 203</text>\n<text text-anchor=\"start\" x=\"3524.5\" y=\"-808.8\" font-family=\"Helvetica,sans-Serif\" font-size=\"14.00\" fill=\"#000000\">value = &#45;0.016</text>\n</g>\n<!-- 29&#45;&gt;31 -->\n<g id=\"edge31\" class=\"edge\">\n<title>29&#45;&gt;31</title>\n<path fill=\"none\" stroke=\"#000000\" d=\"M2965.7102,-890.1466C3094.3775,-876.8297 3345.1883,-850.8712 3480.0331,-836.9149\"/>\n<polygon fill=\"#000000\" stroke=\"#000000\" points=\"3480.7452,-840.36 3490.3317,-835.849 3480.0245,-833.3972 3480.7452,-840.36\"/>\n</g>\n<!-- 33 -->\n<g id=\"node34\" class=\"node\">\n<title>33</title>\n<polygon fill=\"#fcf0e7\" stroke=\"#000000\" points=\"1625.5,-539.5 1464.5,-539.5 1464.5,-471.5 1625.5,-471.5 1625.5,-539.5\"/>\n<text text-anchor=\"start\" x=\"1492.5\" y=\"-524.3\" font-family=\"Helvetica,sans-Serif\" font-size=\"14.00\" fill=\"#000000\">chmom ≤ &#45;0.252</text>\n<text text-anchor=\"start\" x=\"1472.5\" y=\"-509.3\" font-family=\"Helvetica,sans-Serif\" font-size=\"14.00\" fill=\"#000000\">squared_error = 0.021</text>\n<text text-anchor=\"start\" x=\"1493\" y=\"-494.3\" font-family=\"Helvetica,sans-Serif\" font-size=\"14.00\" fill=\"#000000\">samples = 1159</text>\n<text text-anchor=\"start\" x=\"1501\" y=\"-479.3\" font-family=\"Helvetica,sans-Serif\" font-size=\"14.00\" fill=\"#000000\">value = 0.022</text>\n</g>\n<!-- 32&#45;&gt;33 -->\n<g id=\"edge33\" class=\"edge\">\n<title>32&#45;&gt;33</title>\n<path fill=\"none\" stroke=\"#000000\" d=\"M971.5209,-505.5C1093.9344,-505.5 1326.1267,-505.5 1454.3177,-505.5\"/>\n<polygon fill=\"#000000\" stroke=\"#000000\" points=\"1454.4994,-509.0001 1464.4994,-505.5 1454.4994,-502.0001 1454.4994,-509.0001\"/>\n</g>\n<!-- 48 -->\n<g id=\"node49\" class=\"node\">\n<title>48</title>\n<polygon fill=\"#fcefe5\" stroke=\"#000000\" points=\"1625.5,-253.5 1464.5,-253.5 1464.5,-185.5 1625.5,-185.5 1625.5,-253.5\"/>\n<text text-anchor=\"start\" x=\"1497.5\" y=\"-238.3\" font-family=\"Helvetica,sans-Serif\" font-size=\"14.00\" fill=\"#000000\">pctacc ≤ 5.671</text>\n<text text-anchor=\"start\" x=\"1472.5\" y=\"-223.3\" font-family=\"Helvetica,sans-Serif\" font-size=\"14.00\" fill=\"#000000\">squared_error = 0.023</text>\n<text text-anchor=\"start\" x=\"1497\" y=\"-208.3\" font-family=\"Helvetica,sans-Serif\" font-size=\"14.00\" fill=\"#000000\">samples = 322</text>\n<text text-anchor=\"start\" x=\"1501\" y=\"-193.3\" font-family=\"Helvetica,sans-Serif\" font-size=\"14.00\" fill=\"#000000\">value = 0.067</text>\n</g>\n<!-- 32&#45;&gt;48 -->\n<g id=\"edge48\" class=\"edge\">\n<title>32&#45;&gt;48</title>\n<path fill=\"none\" stroke=\"#000000\" d=\"M968.9141,-471.4275C1091.67,-417.7452 1329.3014,-313.8269 1457.6633,-257.6931\"/>\n<polygon fill=\"#000000\" stroke=\"#000000\" points=\"1459.3314,-260.7837 1467.0913,-253.5702 1456.5267,-254.3702 1459.3314,-260.7837\"/>\n</g>\n<!-- 34 -->\n<g id=\"node35\" class=\"node\">\n<title>34</title>\n<polygon fill=\"#fcefe6\" stroke=\"#000000\" points=\"2280.5,-605.5 2119.5,-605.5 2119.5,-537.5 2280.5,-537.5 2280.5,-605.5\"/>\n<text text-anchor=\"start\" x=\"2159.5\" y=\"-590.3\" font-family=\"Helvetica,sans-Serif\" font-size=\"14.00\" fill=\"#000000\">tang ≤ 0.073</text>\n<text text-anchor=\"start\" x=\"2127.5\" y=\"-575.3\" font-family=\"Helvetica,sans-Serif\" font-size=\"14.00\" fill=\"#000000\">squared_error = 0.022</text>\n<text text-anchor=\"start\" x=\"2152\" y=\"-560.3\" font-family=\"Helvetica,sans-Serif\" font-size=\"14.00\" fill=\"#000000\">samples = 633</text>\n<text text-anchor=\"start\" x=\"2156\" y=\"-545.3\" font-family=\"Helvetica,sans-Serif\" font-size=\"14.00\" fill=\"#000000\">value = 0.038</text>\n</g>\n<!-- 33&#45;&gt;34 -->\n<g id=\"edge34\" class=\"edge\">\n<title>33&#45;&gt;34</title>\n<path fill=\"none\" stroke=\"#000000\" d=\"M1625.6441,-513.626C1748.2447,-525.9796 1980.792,-549.4119 2109.1791,-562.3486\"/>\n<polygon fill=\"#000000\" stroke=\"#000000\" points=\"2109.0758,-565.8558 2119.3763,-563.3761 2109.7776,-558.8911 2109.0758,-565.8558\"/>\n</g>\n<!-- 41 -->\n<g id=\"node42\" class=\"node\">\n<title>41</title>\n<polygon fill=\"#fcf0e8\" stroke=\"#000000\" points=\"2280.5,-474.5 2119.5,-474.5 2119.5,-406.5 2280.5,-406.5 2280.5,-474.5\"/>\n<text text-anchor=\"start\" x=\"2145.5\" y=\"-459.3\" font-family=\"Helvetica,sans-Serif\" font-size=\"14.00\" fill=\"#000000\">cashpr ≤ &#45;14.677</text>\n<text text-anchor=\"start\" x=\"2127.5\" y=\"-444.3\" font-family=\"Helvetica,sans-Serif\" font-size=\"14.00\" fill=\"#000000\">squared_error = 0.019</text>\n<text text-anchor=\"start\" x=\"2152\" y=\"-429.3\" font-family=\"Helvetica,sans-Serif\" font-size=\"14.00\" fill=\"#000000\">samples = 526</text>\n<text text-anchor=\"start\" x=\"2156\" y=\"-414.3\" font-family=\"Helvetica,sans-Serif\" font-size=\"14.00\" fill=\"#000000\">value = 0.002</text>\n</g>\n<!-- 33&#45;&gt;41 -->\n<g id=\"edge41\" class=\"edge\">\n<title>33&#45;&gt;41</title>\n<path fill=\"none\" stroke=\"#000000\" d=\"M1625.6441,-497.4972C1748.2447,-485.3307 1980.792,-462.2535 2109.1791,-449.5128\"/>\n<polygon fill=\"#000000\" stroke=\"#000000\" points=\"2109.7708,-452.9713 2119.3763,-448.5008 2109.0795,-446.0055 2109.7708,-452.9713\"/>\n</g>\n<!-- 35 -->\n<g id=\"node36\" class=\"node\">\n<title>35</title>\n<polygon fill=\"#f9e3d2\" stroke=\"#000000\" points=\"2965.5,-719.5 2804.5,-719.5 2804.5,-651.5 2965.5,-651.5 2965.5,-719.5\"/>\n<text text-anchor=\"start\" x=\"2848.5\" y=\"-704.3\" font-family=\"Helvetica,sans-Serif\" font-size=\"14.00\" fill=\"#000000\">prc ≤ 26.94</text>\n<text text-anchor=\"start\" x=\"2812.5\" y=\"-689.3\" font-family=\"Helvetica,sans-Serif\" font-size=\"14.00\" fill=\"#000000\">squared_error = 0.251</text>\n<text text-anchor=\"start\" x=\"2845.5\" y=\"-674.3\" font-family=\"Helvetica,sans-Serif\" font-size=\"14.00\" fill=\"#000000\">samples = 2</text>\n<text text-anchor=\"start\" x=\"2841\" y=\"-659.3\" font-family=\"Helvetica,sans-Serif\" font-size=\"14.00\" fill=\"#000000\">value = 0.534</text>\n</g>\n<!-- 34&#45;&gt;35 -->\n<g id=\"edge35\" class=\"edge\">\n<title>34&#45;&gt;35</title>\n<path fill=\"none\" stroke=\"#000000\" d=\"M2280.5925,-584.9125C2409.2011,-606.3159 2660.0195,-648.058 2794.5701,-670.4504\"/>\n<polygon fill=\"#000000\" stroke=\"#000000\" points=\"2794.0104,-673.9053 2804.4493,-672.0945 2795.1596,-667.0002 2794.0104,-673.9053\"/>\n</g>\n<!-- 38 -->\n<g id=\"node39\" class=\"node\">\n<title>38</title>\n<polygon fill=\"#fcefe6\" stroke=\"#000000\" points=\"2961,-605.5 2809,-605.5 2809,-537.5 2961,-537.5 2961,-605.5\"/>\n<text text-anchor=\"start\" x=\"2839.5\" y=\"-590.3\" font-family=\"Helvetica,sans-Serif\" font-size=\"14.00\" fill=\"#000000\">chatoia ≤ 0.81</text>\n<text text-anchor=\"start\" x=\"2817\" y=\"-575.3\" font-family=\"Helvetica,sans-Serif\" font-size=\"14.00\" fill=\"#000000\">squared_error = 0.02</text>\n<text text-anchor=\"start\" x=\"2837\" y=\"-560.3\" font-family=\"Helvetica,sans-Serif\" font-size=\"14.00\" fill=\"#000000\">samples = 631</text>\n<text text-anchor=\"start\" x=\"2841\" y=\"-545.3\" font-family=\"Helvetica,sans-Serif\" font-size=\"14.00\" fill=\"#000000\">value = 0.037</text>\n</g>\n<!-- 34&#45;&gt;38 -->\n<g id=\"edge38\" class=\"edge\">\n<title>34&#45;&gt;38</title>\n<path fill=\"none\" stroke=\"#000000\" d=\"M2280.5925,-571.5C2410.5372,-571.5 2665.2444,-571.5 2798.7259,-571.5\"/>\n<polygon fill=\"#000000\" stroke=\"#000000\" points=\"2798.9071,-575.0001 2808.9071,-571.5 2798.9071,-568.0001 2798.9071,-575.0001\"/>\n</g>\n<!-- 36 -->\n<g id=\"node37\" class=\"node\">\n<title>36</title>\n<polygon fill=\"#fcefe6\" stroke=\"#000000\" points=\"3643,-783 3499,-783 3499,-730 3643,-730 3643,-783\"/>\n<text text-anchor=\"start\" x=\"3507\" y=\"-767.8\" font-family=\"Helvetica,sans-Serif\" font-size=\"14.00\" fill=\"#000000\">squared_error = 0.0</text>\n<text text-anchor=\"start\" x=\"3531.5\" y=\"-752.8\" font-family=\"Helvetica,sans-Serif\" font-size=\"14.00\" fill=\"#000000\">samples = 1</text>\n<text text-anchor=\"start\" x=\"3527\" y=\"-737.8\" font-family=\"Helvetica,sans-Serif\" font-size=\"14.00\" fill=\"#000000\">value = 0.034</text>\n</g>\n<!-- 35&#45;&gt;36 -->\n<g id=\"edge36\" class=\"edge\">\n<title>35&#45;&gt;36</title>\n<path fill=\"none\" stroke=\"#000000\" d=\"M2965.7102,-693.8534C3097.2253,-707.465 3356.3505,-734.2841 3488.8136,-747.9938\"/>\n<polygon fill=\"#000000\" stroke=\"#000000\" points=\"3488.5968,-751.49 3498.904,-749.0382 3489.3175,-744.5272 3488.5968,-751.49\"/>\n</g>\n<!-- 37 -->\n<g id=\"node38\" class=\"node\">\n<title>37</title>\n<polygon fill=\"#f7d6bf\" stroke=\"#000000\" points=\"3643,-712 3499,-712 3499,-659 3643,-659 3643,-712\"/>\n<text text-anchor=\"start\" x=\"3507\" y=\"-696.8\" font-family=\"Helvetica,sans-Serif\" font-size=\"14.00\" fill=\"#000000\">squared_error = 0.0</text>\n<text text-anchor=\"start\" x=\"3531.5\" y=\"-681.8\" font-family=\"Helvetica,sans-Serif\" font-size=\"14.00\" fill=\"#000000\">samples = 1</text>\n<text text-anchor=\"start\" x=\"3527\" y=\"-666.8\" font-family=\"Helvetica,sans-Serif\" font-size=\"14.00\" fill=\"#000000\">value = 1.035</text>\n</g>\n<!-- 35&#45;&gt;37 -->\n<g id=\"edge37\" class=\"edge\">\n<title>35&#45;&gt;37</title>\n<path fill=\"none\" stroke=\"#000000\" d=\"M2965.7102,-685.5C3097.2253,-685.5 3356.3505,-685.5 3488.8136,-685.5\"/>\n<polygon fill=\"#000000\" stroke=\"#000000\" points=\"3488.904,-689.0001 3498.904,-685.5 3488.904,-682.0001 3488.904,-689.0001\"/>\n</g>\n<!-- 39 -->\n<g id=\"node40\" class=\"node\">\n<title>39</title>\n<polygon fill=\"#fcefe6\" stroke=\"#000000\" points=\"3647,-641 3495,-641 3495,-588 3647,-588 3647,-641\"/>\n<text text-anchor=\"start\" x=\"3503\" y=\"-625.8\" font-family=\"Helvetica,sans-Serif\" font-size=\"14.00\" fill=\"#000000\">squared_error = 0.02</text>\n<text text-anchor=\"start\" x=\"3523\" y=\"-610.8\" font-family=\"Helvetica,sans-Serif\" font-size=\"14.00\" fill=\"#000000\">samples = 629</text>\n<text text-anchor=\"start\" x=\"3527\" y=\"-595.8\" font-family=\"Helvetica,sans-Serif\" font-size=\"14.00\" fill=\"#000000\">value = 0.038</text>\n</g>\n<!-- 38&#45;&gt;39 -->\n<g id=\"edge39\" class=\"edge\">\n<title>38&#45;&gt;39</title>\n<path fill=\"none\" stroke=\"#000000\" d=\"M2961.0351,-576.266C3089.6353,-584.327 3349.2643,-600.6011 3484.569,-609.0823\"/>\n<polygon fill=\"#000000\" stroke=\"#000000\" points=\"3484.6869,-612.5965 3494.8863,-609.729 3485.1249,-605.6102 3484.6869,-612.5965\"/>\n</g>\n<!-- 40 -->\n<g id=\"node41\" class=\"node\">\n<title>40</title>\n<polygon fill=\"#fef8f4\" stroke=\"#000000\" points=\"3651.5,-570 3490.5,-570 3490.5,-517 3651.5,-517 3651.5,-570\"/>\n<text text-anchor=\"start\" x=\"3498.5\" y=\"-554.8\" font-family=\"Helvetica,sans-Serif\" font-size=\"14.00\" fill=\"#000000\">squared_error = 0.003</text>\n<text text-anchor=\"start\" x=\"3531.5\" y=\"-539.8\" font-family=\"Helvetica,sans-Serif\" font-size=\"14.00\" fill=\"#000000\">samples = 2</text>\n<text text-anchor=\"start\" x=\"3524.5\" y=\"-524.8\" font-family=\"Helvetica,sans-Serif\" font-size=\"14.00\" fill=\"#000000\">value = &#45;0.319</text>\n</g>\n<!-- 38&#45;&gt;40 -->\n<g id=\"edge40\" class=\"edge\">\n<title>38&#45;&gt;40</title>\n<path fill=\"none\" stroke=\"#000000\" d=\"M2961.0351,-568.3965C3088.3178,-563.2013 3343.9581,-552.767 3480.3715,-547.1991\"/>\n<polygon fill=\"#000000\" stroke=\"#000000\" points=\"3480.5359,-550.6954 3490.3848,-546.7904 3480.2504,-543.7012 3480.5359,-550.6954\"/>\n</g>\n<!-- 42 -->\n<g id=\"node43\" class=\"node\">\n<title>42</title>\n<polygon fill=\"#fceee5\" stroke=\"#000000\" points=\"2965.5,-474.5 2804.5,-474.5 2804.5,-406.5 2965.5,-406.5 2965.5,-474.5\"/>\n<text text-anchor=\"start\" x=\"2842\" y=\"-459.3\" font-family=\"Helvetica,sans-Serif\" font-size=\"14.00\" fill=\"#000000\">roaq ≤ &#45;0.037</text>\n<text text-anchor=\"start\" x=\"2812.5\" y=\"-444.3\" font-family=\"Helvetica,sans-Serif\" font-size=\"14.00\" fill=\"#000000\">squared_error = 0.034</text>\n<text text-anchor=\"start\" x=\"2841\" y=\"-429.3\" font-family=\"Helvetica,sans-Serif\" font-size=\"14.00\" fill=\"#000000\">samples = 69</text>\n<text text-anchor=\"start\" x=\"2841\" y=\"-414.3\" font-family=\"Helvetica,sans-Serif\" font-size=\"14.00\" fill=\"#000000\">value = 0.071</text>\n</g>\n<!-- 41&#45;&gt;42 -->\n<g id=\"edge42\" class=\"edge\">\n<title>41&#45;&gt;42</title>\n<path fill=\"none\" stroke=\"#000000\" d=\"M2280.5925,-440.5C2409.0723,-440.5 2659.5175,-440.5 2794.1657,-440.5\"/>\n<polygon fill=\"#000000\" stroke=\"#000000\" points=\"2794.4494,-444.0001 2804.4493,-440.5 2794.4493,-437.0001 2794.4494,-444.0001\"/>\n</g>\n<!-- 45 -->\n<g id=\"node46\" class=\"node\">\n<title>45</title>\n<polygon fill=\"#fcf0e8\" stroke=\"#000000\" points=\"2965.5,-368.5 2804.5,-368.5 2804.5,-300.5 2965.5,-300.5 2965.5,-368.5\"/>\n<text text-anchor=\"start\" x=\"2833\" y=\"-353.3\" font-family=\"Helvetica,sans-Serif\" font-size=\"14.00\" fill=\"#000000\">indmom ≤ 0.766</text>\n<text text-anchor=\"start\" x=\"2812.5\" y=\"-338.3\" font-family=\"Helvetica,sans-Serif\" font-size=\"14.00\" fill=\"#000000\">squared_error = 0.016</text>\n<text text-anchor=\"start\" x=\"2837\" y=\"-323.3\" font-family=\"Helvetica,sans-Serif\" font-size=\"14.00\" fill=\"#000000\">samples = 457</text>\n<text text-anchor=\"start\" x=\"2838.5\" y=\"-308.3\" font-family=\"Helvetica,sans-Serif\" font-size=\"14.00\" fill=\"#000000\">value = &#45;0.009</text>\n</g>\n<!-- 41&#45;&gt;45 -->\n<g id=\"edge45\" class=\"edge\">\n<title>41&#45;&gt;45</title>\n<path fill=\"none\" stroke=\"#000000\" d=\"M2280.5925,-428.0287C2409.0723,-408.1472 2659.5175,-369.3922 2794.1657,-348.5561\"/>\n<polygon fill=\"#000000\" stroke=\"#000000\" points=\"2795.1022,-351.9529 2804.4493,-346.9648 2794.0317,-345.0353 2795.1022,-351.9529\"/>\n</g>\n<!-- 43 -->\n<g id=\"node44\" class=\"node\">\n<title>43</title>\n<polygon fill=\"#fbebdf\" stroke=\"#000000\" points=\"3651.5,-499 3490.5,-499 3490.5,-446 3651.5,-446 3651.5,-499\"/>\n<text text-anchor=\"start\" x=\"3498.5\" y=\"-483.8\" font-family=\"Helvetica,sans-Serif\" font-size=\"14.00\" fill=\"#000000\">squared_error = 0.069</text>\n<text text-anchor=\"start\" x=\"3527\" y=\"-468.8\" font-family=\"Helvetica,sans-Serif\" font-size=\"14.00\" fill=\"#000000\">samples = 14</text>\n<text text-anchor=\"start\" x=\"3527\" y=\"-453.8\" font-family=\"Helvetica,sans-Serif\" font-size=\"14.00\" fill=\"#000000\">value = 0.207</text>\n</g>\n<!-- 42&#45;&gt;43 -->\n<g id=\"edge43\" class=\"edge\">\n<title>42&#45;&gt;43</title>\n<path fill=\"none\" stroke=\"#000000\" d=\"M2965.7102,-444.2649C3094.3775,-450.2669 3345.1883,-461.9665 3480.0331,-468.2566\"/>\n<polygon fill=\"#000000\" stroke=\"#000000\" points=\"3480.1795,-471.7672 3490.3317,-468.737 3480.5057,-464.7748 3480.1795,-471.7672\"/>\n</g>\n<!-- 44 -->\n<g id=\"node45\" class=\"node\">\n<title>44</title>\n<polygon fill=\"#fcefe6\" stroke=\"#000000\" points=\"3651.5,-428 3490.5,-428 3490.5,-375 3651.5,-375 3651.5,-428\"/>\n<text text-anchor=\"start\" x=\"3498.5\" y=\"-412.8\" font-family=\"Helvetica,sans-Serif\" font-size=\"14.00\" fill=\"#000000\">squared_error = 0.019</text>\n<text text-anchor=\"start\" x=\"3527\" y=\"-397.8\" font-family=\"Helvetica,sans-Serif\" font-size=\"14.00\" fill=\"#000000\">samples = 55</text>\n<text text-anchor=\"start\" x=\"3527\" y=\"-382.8\" font-family=\"Helvetica,sans-Serif\" font-size=\"14.00\" fill=\"#000000\">value = 0.036</text>\n</g>\n<!-- 42&#45;&gt;44 -->\n<g id=\"edge44\" class=\"edge\">\n<title>42&#45;&gt;44</title>\n<path fill=\"none\" stroke=\"#000000\" d=\"M2965.7102,-435.9115C3094.3775,-428.5966 3345.1883,-414.3377 3480.0331,-406.6716\"/>\n<polygon fill=\"#000000\" stroke=\"#000000\" points=\"3480.5465,-410.1481 3490.3317,-406.0861 3480.1492,-403.1594 3480.5465,-410.1481\"/>\n</g>\n<!-- 46 -->\n<g id=\"node47\" class=\"node\">\n<title>46</title>\n<polygon fill=\"#fae7d9\" stroke=\"#000000\" points=\"3647,-357 3495,-357 3495,-304 3647,-304 3647,-357\"/>\n<text text-anchor=\"start\" x=\"3503\" y=\"-341.8\" font-family=\"Helvetica,sans-Serif\" font-size=\"14.00\" fill=\"#000000\">squared_error = 0.02</text>\n<text text-anchor=\"start\" x=\"3531.5\" y=\"-326.8\" font-family=\"Helvetica,sans-Serif\" font-size=\"14.00\" fill=\"#000000\">samples = 2</text>\n<text text-anchor=\"start\" x=\"3527\" y=\"-311.8\" font-family=\"Helvetica,sans-Serif\" font-size=\"14.00\" fill=\"#000000\">value = 0.379</text>\n</g>\n<!-- 45&#45;&gt;46 -->\n<g id=\"edge46\" class=\"edge\">\n<title>45&#45;&gt;46</title>\n<path fill=\"none\" stroke=\"#000000\" d=\"M2965.7102,-334.0294C3095.8446,-333.2706 3350.9236,-331.7832 3484.5999,-331.0038\"/>\n<polygon fill=\"#000000\" stroke=\"#000000\" points=\"3484.8166,-334.5027 3494.796,-330.9443 3484.7757,-327.5028 3484.8166,-334.5027\"/>\n</g>\n<!-- 47 -->\n<g id=\"node48\" class=\"node\">\n<title>47</title>\n<polygon fill=\"#fcf0e8\" stroke=\"#000000\" points=\"3651.5,-286 3490.5,-286 3490.5,-233 3651.5,-233 3651.5,-286\"/>\n<text text-anchor=\"start\" x=\"3498.5\" y=\"-270.8\" font-family=\"Helvetica,sans-Serif\" font-size=\"14.00\" fill=\"#000000\">squared_error = 0.015</text>\n<text text-anchor=\"start\" x=\"3523\" y=\"-255.8\" font-family=\"Helvetica,sans-Serif\" font-size=\"14.00\" fill=\"#000000\">samples = 455</text>\n<text text-anchor=\"start\" x=\"3524.5\" y=\"-240.8\" font-family=\"Helvetica,sans-Serif\" font-size=\"14.00\" fill=\"#000000\">value = &#45;0.011</text>\n</g>\n<!-- 45&#45;&gt;47 -->\n<g id=\"edge47\" class=\"edge\">\n<title>45&#45;&gt;47</title>\n<path fill=\"none\" stroke=\"#000000\" d=\"M2965.7102,-325.676C3094.3775,-311.6089 3345.1883,-284.1879 3480.0331,-269.4454\"/>\n<polygon fill=\"#000000\" stroke=\"#000000\" points=\"3480.7714,-272.8856 3490.3317,-268.3194 3480.0106,-265.9271 3480.7714,-272.8856\"/>\n</g>\n<!-- 49 -->\n<g id=\"node50\" class=\"node\">\n<title>49</title>\n<polygon fill=\"#fcefe5\" stroke=\"#000000\" points=\"2280.5,-253.5 2119.5,-253.5 2119.5,-185.5 2280.5,-185.5 2280.5,-253.5\"/>\n<text text-anchor=\"start\" x=\"2158\" y=\"-238.3\" font-family=\"Helvetica,sans-Serif\" font-size=\"14.00\" fill=\"#000000\">chtx ≤ &#45;0.039</text>\n<text text-anchor=\"start\" x=\"2127.5\" y=\"-223.3\" font-family=\"Helvetica,sans-Serif\" font-size=\"14.00\" fill=\"#000000\">squared_error = 0.021</text>\n<text text-anchor=\"start\" x=\"2152\" y=\"-208.3\" font-family=\"Helvetica,sans-Serif\" font-size=\"14.00\" fill=\"#000000\">samples = 320</text>\n<text text-anchor=\"start\" x=\"2156\" y=\"-193.3\" font-family=\"Helvetica,sans-Serif\" font-size=\"14.00\" fill=\"#000000\">value = 0.064</text>\n</g>\n<!-- 48&#45;&gt;49 -->\n<g id=\"edge49\" class=\"edge\">\n<title>48&#45;&gt;49</title>\n<path fill=\"none\" stroke=\"#000000\" d=\"M1625.6441,-219.5C1748.2447,-219.5 1980.792,-219.5 2109.1791,-219.5\"/>\n<polygon fill=\"#000000\" stroke=\"#000000\" points=\"2109.3763,-223.0001 2119.3763,-219.5 2109.3763,-216.0001 2109.3763,-223.0001\"/>\n</g>\n<!-- 54 -->\n<g id=\"node55\" class=\"node\">\n<title>54</title>\n<polygon fill=\"#fae5d6\" stroke=\"#000000\" points=\"2280.5,-131.5 2119.5,-131.5 2119.5,-63.5 2280.5,-63.5 2280.5,-131.5\"/>\n<text text-anchor=\"start\" x=\"2147.5\" y=\"-116.3\" font-family=\"Helvetica,sans-Serif\" font-size=\"14.00\" fill=\"#000000\">std_turn ≤ 9.082</text>\n<text text-anchor=\"start\" x=\"2127.5\" y=\"-101.3\" font-family=\"Helvetica,sans-Serif\" font-size=\"14.00\" fill=\"#000000\">squared_error = 0.142</text>\n<text text-anchor=\"start\" x=\"2160.5\" y=\"-86.3\" font-family=\"Helvetica,sans-Serif\" font-size=\"14.00\" fill=\"#000000\">samples = 2</text>\n<text text-anchor=\"start\" x=\"2156\" y=\"-71.3\" font-family=\"Helvetica,sans-Serif\" font-size=\"14.00\" fill=\"#000000\">value = 0.453</text>\n</g>\n<!-- 48&#45;&gt;54 -->\n<g id=\"edge54\" class=\"edge\">\n<title>48&#45;&gt;54</title>\n<path fill=\"none\" stroke=\"#000000\" d=\"M1625.6441,-204.4793C1748.2447,-181.6437 1980.792,-138.3296 2109.1791,-114.4163\"/>\n<polygon fill=\"#000000\" stroke=\"#000000\" points=\"2110.1863,-117.7889 2119.3763,-112.5169 2108.9045,-110.9073 2110.1863,-117.7889\"/>\n</g>\n<!-- 50 -->\n<g id=\"node51\" class=\"node\">\n<title>50</title>\n<polygon fill=\"#f9e1d0\" stroke=\"#000000\" points=\"2957,-282 2813,-282 2813,-229 2957,-229 2957,-282\"/>\n<text text-anchor=\"start\" x=\"2821\" y=\"-266.8\" font-family=\"Helvetica,sans-Serif\" font-size=\"14.00\" fill=\"#000000\">squared_error = 0.0</text>\n<text text-anchor=\"start\" x=\"2845.5\" y=\"-251.8\" font-family=\"Helvetica,sans-Serif\" font-size=\"14.00\" fill=\"#000000\">samples = 1</text>\n<text text-anchor=\"start\" x=\"2841\" y=\"-236.8\" font-family=\"Helvetica,sans-Serif\" font-size=\"14.00\" fill=\"#000000\">value = 0.584</text>\n</g>\n<!-- 49&#45;&gt;50 -->\n<g id=\"edge50\" class=\"edge\">\n<title>49&#45;&gt;50</title>\n<path fill=\"none\" stroke=\"#000000\" d=\"M2280.5925,-223.7355C2411.8298,-230.6327 2670.3239,-244.2177 2802.6728,-251.1733\"/>\n<polygon fill=\"#000000\" stroke=\"#000000\" points=\"2802.5855,-254.6735 2812.7554,-251.7032 2802.9529,-247.6831 2802.5855,-254.6735\"/>\n</g>\n<!-- 51 -->\n<g id=\"node52\" class=\"node\">\n<title>51</title>\n<polygon fill=\"#fcefe5\" stroke=\"#000000\" points=\"2965.5,-210.5 2804.5,-210.5 2804.5,-142.5 2965.5,-142.5 2965.5,-210.5\"/>\n<text text-anchor=\"start\" x=\"2844\" y=\"-195.3\" font-family=\"Helvetica,sans-Serif\" font-size=\"14.00\" fill=\"#000000\">roaq ≤ 0.048</text>\n<text text-anchor=\"start\" x=\"2812.5\" y=\"-180.3\" font-family=\"Helvetica,sans-Serif\" font-size=\"14.00\" fill=\"#000000\">squared_error = 0.021</text>\n<text text-anchor=\"start\" x=\"2837\" y=\"-165.3\" font-family=\"Helvetica,sans-Serif\" font-size=\"14.00\" fill=\"#000000\">samples = 319</text>\n<text text-anchor=\"start\" x=\"2841\" y=\"-150.3\" font-family=\"Helvetica,sans-Serif\" font-size=\"14.00\" fill=\"#000000\">value = 0.063</text>\n</g>\n<!-- 49&#45;&gt;51 -->\n<g id=\"edge51\" class=\"edge\">\n<title>49&#45;&gt;51</title>\n<path fill=\"none\" stroke=\"#000000\" d=\"M2280.5925,-214.4409C2409.0723,-206.3758 2659.5175,-190.6544 2794.1657,-182.202\"/>\n<polygon fill=\"#000000\" stroke=\"#000000\" points=\"2794.6883,-185.6762 2804.4493,-181.5565 2794.2497,-178.6899 2794.6883,-185.6762\"/>\n</g>\n<!-- 52 -->\n<g id=\"node53\" class=\"node\">\n<title>52</title>\n<polygon fill=\"#fceee5\" stroke=\"#000000\" points=\"3647,-207 3495,-207 3495,-154 3647,-154 3647,-207\"/>\n<text text-anchor=\"start\" x=\"3503\" y=\"-191.8\" font-family=\"Helvetica,sans-Serif\" font-size=\"14.00\" fill=\"#000000\">squared_error = 0.02</text>\n<text text-anchor=\"start\" x=\"3523\" y=\"-176.8\" font-family=\"Helvetica,sans-Serif\" font-size=\"14.00\" fill=\"#000000\">samples = 292</text>\n<text text-anchor=\"start\" x=\"3531\" y=\"-161.8\" font-family=\"Helvetica,sans-Serif\" font-size=\"14.00\" fill=\"#000000\">value = 0.07</text>\n</g>\n<!-- 51&#45;&gt;52 -->\n<g id=\"edge52\" class=\"edge\">\n<title>51&#45;&gt;52</title>\n<path fill=\"none\" stroke=\"#000000\" d=\"M2965.7102,-176.9706C3095.8446,-177.7294 3350.9236,-179.2168 3484.5999,-179.9962\"/>\n<polygon fill=\"#000000\" stroke=\"#000000\" points=\"3484.7757,-183.4972 3494.796,-180.0557 3484.8166,-176.4973 3484.7757,-183.4972\"/>\n</g>\n<!-- 53 -->\n<g id=\"node54\" class=\"node\">\n<title>53</title>\n<polygon fill=\"#fcf1e8\" stroke=\"#000000\" points=\"3651.5,-136 3490.5,-136 3490.5,-83 3651.5,-83 3651.5,-136\"/>\n<text text-anchor=\"start\" x=\"3498.5\" y=\"-120.8\" font-family=\"Helvetica,sans-Serif\" font-size=\"14.00\" fill=\"#000000\">squared_error = 0.022</text>\n<text text-anchor=\"start\" x=\"3527\" y=\"-105.8\" font-family=\"Helvetica,sans-Serif\" font-size=\"14.00\" fill=\"#000000\">samples = 27</text>\n<text text-anchor=\"start\" x=\"3524.5\" y=\"-90.8\" font-family=\"Helvetica,sans-Serif\" font-size=\"14.00\" fill=\"#000000\">value = &#45;0.019</text>\n</g>\n<!-- 51&#45;&gt;53 -->\n<g id=\"edge53\" class=\"edge\">\n<title>51&#45;&gt;53</title>\n<path fill=\"none\" stroke=\"#000000\" d=\"M2965.7102,-168.6172C3094.3775,-156.0506 3345.1883,-131.5545 3480.0331,-118.3845\"/>\n<polygon fill=\"#000000\" stroke=\"#000000\" points=\"3480.7193,-121.8342 3490.3317,-117.3787 3480.0388,-114.8674 3480.7193,-121.8342\"/>\n</g>\n<!-- 55 -->\n<g id=\"node56\" class=\"node\">\n<title>55</title>\n<polygon fill=\"#fceee5\" stroke=\"#000000\" points=\"2957,-124 2813,-124 2813,-71 2957,-71 2957,-124\"/>\n<text text-anchor=\"start\" x=\"2821\" y=\"-108.8\" font-family=\"Helvetica,sans-Serif\" font-size=\"14.00\" fill=\"#000000\">squared_error = 0.0</text>\n<text text-anchor=\"start\" x=\"2845.5\" y=\"-93.8\" font-family=\"Helvetica,sans-Serif\" font-size=\"14.00\" fill=\"#000000\">samples = 1</text>\n<text text-anchor=\"start\" x=\"2841\" y=\"-78.8\" font-family=\"Helvetica,sans-Serif\" font-size=\"14.00\" fill=\"#000000\">value = 0.077</text>\n</g>\n<!-- 54&#45;&gt;55 -->\n<g id=\"edge55\" class=\"edge\">\n<title>54&#45;&gt;55</title>\n<path fill=\"none\" stroke=\"#000000\" d=\"M2280.5925,-97.5C2411.8298,-97.5 2670.3239,-97.5 2802.6728,-97.5\"/>\n<polygon fill=\"#000000\" stroke=\"#000000\" points=\"2802.7555,-101.0001 2812.7554,-97.5 2802.7554,-94.0001 2802.7555,-101.0001\"/>\n</g>\n<!-- 56 -->\n<g id=\"node57\" class=\"node\">\n<title>56</title>\n<polygon fill=\"#f8dbc7\" stroke=\"#000000\" points=\"2957,-53 2813,-53 2813,0 2957,0 2957,-53\"/>\n<text text-anchor=\"start\" x=\"2821\" y=\"-37.8\" font-family=\"Helvetica,sans-Serif\" font-size=\"14.00\" fill=\"#000000\">squared_error = 0.0</text>\n<text text-anchor=\"start\" x=\"2845.5\" y=\"-22.8\" font-family=\"Helvetica,sans-Serif\" font-size=\"14.00\" fill=\"#000000\">samples = 1</text>\n<text text-anchor=\"start\" x=\"2841\" y=\"-7.8\" font-family=\"Helvetica,sans-Serif\" font-size=\"14.00\" fill=\"#000000\">value = 0.829</text>\n</g>\n<!-- 54&#45;&gt;56 -->\n<g id=\"edge56\" class=\"edge\">\n<title>54&#45;&gt;56</title>\n<path fill=\"none\" stroke=\"#000000\" d=\"M2280.5925,-89.1466C2411.8298,-75.5439 2670.3239,-48.7511 2802.6728,-35.0332\"/>\n<polygon fill=\"#000000\" stroke=\"#000000\" points=\"2803.1696,-38.5005 2812.7554,-33.9881 2802.4478,-31.5378 2803.1696,-38.5005\"/>\n</g>\n</g>\n</svg>\n"
          },
          "metadata": {}
        }
      ]
    },
    {
      "cell_type": "markdown",
      "source": [
        "# **Feature importance**"
      ],
      "metadata": {
        "id": "XNYXFVkqQ300"
      }
    },
    {
      "cell_type": "code",
      "source": [
        "# define the explainer\n",
        "# shap has many explainers, Kernelexplainer supports tensorflow NN model\n",
        "explainer = shap.TreeExplainer(model_tree,X_train.iloc[:50,:])\n",
        "\n",
        "# calculate the SHAP values for each feature using 300 rows, \n",
        "# you may use less for shorter calculation time\n",
        "# this takes ~3 minutes\n",
        "shap_values = explainer.shap_values(X_train.iloc[:300,:])"
      ],
      "metadata": {
        "id": "K-jMO4FrRD4D"
      },
      "execution_count": 38,
      "outputs": []
    },
    {
      "cell_type": "code",
      "source": [
        "#### show some results ####\n",
        "\n",
        "expected_value = explainer.expected_value\n",
        "\n",
        "# visulize the feature importance\n",
        "shap.summary_plot(shap_values, X_train, plot_type=\"bar\")"
      ],
      "metadata": {
        "colab": {
          "base_uri": "https://localhost:8080/",
          "height": 581
        },
        "id": "Rlua7FSARIjR",
        "outputId": "5b4cdd7c-ca55-49a5-e470-340e2bd8a27f"
      },
      "execution_count": 41,
      "outputs": [
        {
          "output_type": "display_data",
          "data": {
            "text/plain": [
              "<Figure size 576x684 with 1 Axes>"
            ],
            "image/png": "[encoded data removed]"
          },
          "metadata": {
            "needs_background": "light"
          }
        }
      ]
    },
    {
      "cell_type": "markdown",
      "source": [
        "# **interview questions**"
      ],
      "metadata": {
        "id": "WIBYvRE5x2PN"
      }
    },
    {
      "cell_type": "markdown",
      "source": [
        "**What is decision tree?**\n",
        "  \n",
        "Decision trees is a tool that uses a tree-like model of decisions and their possible consequences. If an algorithm only contains conditional control statements, decision trees can model that algorithm really well.\n",
        "Decision trees are a non-parametric, supervised learning method.\n",
        "Decision trees are used for classification and regression tasks.\n",
        "The diagram below shows an example of a decision tree (the dataset used is the Titanic dataset to predict whether a passenger survived or not):\n",
        "\n",
        "决策树是一种非参数的有监督学习方法，可以用于回归和分类。\n",
        "\n",
        "\n"
      ],
      "metadata": {
        "id": "t5j4MRcVx6XZ"
      }
    }
  ]
}