{
  "nbformat": 4,
  "nbformat_minor": 0,
  "metadata": {
    "colab": {
      "name": "P-linear regression.ipynb",
      "provenance": [],
      "authorship_tag": "ABX9TyNsCoI5f+Vq8WTAySdSdb/b",
      "include_colab_link": true
    },
    "kernelspec": {
      "name": "python3",
      "display_name": "Python 3"
    },
    "language_info": {
      "name": "python"
    }
  },
  "cells": [
    {
      "cell_type": "markdown",
      "metadata": {
        "id": "view-in-github",
        "colab_type": "text"
      },
      "source": [
        "<a href=\"https://colab.research.google.com/github/jasmine-yolo/Python-practice/blob/main/P_linear_regression.ipynb\" target=\"_parent\"><img src=\"https://colab.research.google.com/assets/colab-badge.svg\" alt=\"Open In Colab\"/></a>"
      ]
    },
    {
      "cell_type": "markdown",
      "source": [
        "# **linear regression**\n",
        "\n",
        "\n",
        "\n",
        "\n",
        "\n",
        "\n",
        "\n"
      ],
      "metadata": {
        "id": "BF5f8i4Nvt-h"
      }
    },
    {
      "cell_type": "code",
      "execution_count": 40,
      "metadata": {
        "id": "k8ju28bRlsTx"
      },
      "outputs": [],
      "source": [
        "import os\n",
        "import numpy as np\n",
        "import pandas as pd\n",
        "import tqdm\n",
        "import matplotlib.pyplot as plt\n",
        "from sklearn.linear_model import *\n",
        "from sklearn.model_selection import train_test_split, GridSearchCV, RandomizedSearchCV\n",
        "from sklearn.metrics import classification_report, confusion_matrix, accuracy_score, mean_squared_error, mean_absolute_error"
      ]
    },
    {
      "cell_type": "code",
      "source": [
        "from google.colab import drive\n",
        "\n",
        "# mount the Google drive as a path that you can work on \n",
        "drive.mount('/drive')\n",
        "\n",
        "df_0 = pd.read_csv('/drive/My Drive/Colab Notebooks/Data/smalldata.csv', parse_dates=['DATE'])"
      ],
      "metadata": {
        "colab": {
          "base_uri": "https://localhost:8080/"
        },
        "id": "F2KLPkdimCj-",
        "outputId": "92d2b518-fdf5-4916-d21b-d794a0a24e52"
      },
      "execution_count": 2,
      "outputs": [
        {
          "output_type": "stream",
          "name": "stdout",
          "text": [
            "Mounted at /drive\n"
          ]
        }
      ]
    },
    {
      "cell_type": "code",
      "source": [
        "df_0.info(verbose=True,show_counts=True)"
      ],
      "metadata": {
        "colab": {
          "base_uri": "https://localhost:8080/"
        },
        "id": "9tU6vZFImwzI",
        "outputId": "b8539d0b-3c92-4303-a2b8-9d5173462959"
      },
      "execution_count": 57,
      "outputs": [
        {
          "output_type": "stream",
          "name": "stdout",
          "text": [
            "<class 'pandas.core.frame.DataFrame'>\n",
            "RangeIndex: 77836 entries, 0 to 77835\n",
            "Data columns (total 102 columns):\n",
            " #    Column           Non-Null Count  Dtype         \n",
            "---   ------           --------------  -----         \n",
            " 0    Unnamed: 0       77836 non-null  float64       \n",
            " 1    DATE             77836 non-null  datetime64[ns]\n",
            " 2    permno           77836 non-null  float64       \n",
            " 3    RET              77836 non-null  float64       \n",
            " 4    mvel1            77836 non-null  float64       \n",
            " 5    prc              77836 non-null  float64       \n",
            " 6    SHROUT           77836 non-null  float64       \n",
            " 7    beta             77836 non-null  float64       \n",
            " 8    betasq           77836 non-null  float64       \n",
            " 9    chmom            77836 non-null  float64       \n",
            " 10   dolvol           77836 non-null  float64       \n",
            " 11   idiovol          77836 non-null  float64       \n",
            " 12   indmom           77836 non-null  float64       \n",
            " 13   mom1m            77836 non-null  float64       \n",
            " 14   mom6m            77836 non-null  float64       \n",
            " 15   mom12m           77836 non-null  float64       \n",
            " 16   mom36m           77836 non-null  float64       \n",
            " 17   mve0             77836 non-null  float64       \n",
            " 18   pricedelay       77836 non-null  float64       \n",
            " 19   turn             77836 non-null  float64       \n",
            " 20   absacc           77836 non-null  float64       \n",
            " 21   acc              77836 non-null  float64       \n",
            " 22   age              77836 non-null  float64       \n",
            " 23   agr              77836 non-null  float64       \n",
            " 24   cashdebt         77836 non-null  float64       \n",
            " 25   cashpr           77836 non-null  float64       \n",
            " 26   cfp              77836 non-null  float64       \n",
            " 27   cfp_ia           77836 non-null  float64       \n",
            " 28   chatoia          77836 non-null  float64       \n",
            " 29   chcsho           77836 non-null  float64       \n",
            " 30   chempia          77836 non-null  float64       \n",
            " 31   chinv            77836 non-null  float64       \n",
            " 32   chpmia           77836 non-null  float64       \n",
            " 33   convind          77836 non-null  float64       \n",
            " 34   currat           77836 non-null  float64       \n",
            " 35   depr             77836 non-null  float64       \n",
            " 36   divi             77836 non-null  float64       \n",
            " 37   divo             77836 non-null  float64       \n",
            " 38   dy               77836 non-null  float64       \n",
            " 39   egr              77836 non-null  float64       \n",
            " 40   ep               77836 non-null  float64       \n",
            " 41   gma              77836 non-null  float64       \n",
            " 42   grcapx           77836 non-null  float64       \n",
            " 43   grltnoa          77836 non-null  float64       \n",
            " 44   herf             77836 non-null  float64       \n",
            " 45   hire             77836 non-null  float64       \n",
            " 46   invest           77836 non-null  float64       \n",
            " 47   lev              77836 non-null  float64       \n",
            " 48   lgr              77836 non-null  float64       \n",
            " 49   mve_ia           77836 non-null  float64       \n",
            " 50   operprof         77836 non-null  float64       \n",
            " 51   orgcap           77836 non-null  float64       \n",
            " 52   pchcapx_ia       77836 non-null  float64       \n",
            " 53   pchcurrat        77836 non-null  float64       \n",
            " 54   pchdepr          77836 non-null  float64       \n",
            " 55   pchgm_pchsale    77836 non-null  float64       \n",
            " 56   pchquick         77836 non-null  float64       \n",
            " 57   pchsale_pchinvt  77836 non-null  float64       \n",
            " 58   pchsale_pchrect  77836 non-null  float64       \n",
            " 59   pchsale_pchxsga  77836 non-null  float64       \n",
            " 60   pchsaleinv       77836 non-null  float64       \n",
            " 61   pctacc           77836 non-null  float64       \n",
            " 62   ps               77836 non-null  float64       \n",
            " 63   quick            77836 non-null  float64       \n",
            " 64   rd               77836 non-null  float64       \n",
            " 65   rd_mve           77836 non-null  float64       \n",
            " 66   rd_sale          77836 non-null  float64       \n",
            " 67   realestate       77836 non-null  float64       \n",
            " 68   roic             77836 non-null  float64       \n",
            " 69   salecash         77836 non-null  float64       \n",
            " 70   saleinv          77836 non-null  float64       \n",
            " 71   salerec          77836 non-null  float64       \n",
            " 72   secured          77836 non-null  float64       \n",
            " 73   securedind       77836 non-null  float64       \n",
            " 74   sgr              77836 non-null  float64       \n",
            " 75   sin              77836 non-null  float64       \n",
            " 76   sp               77836 non-null  float64       \n",
            " 77   tang             77836 non-null  float64       \n",
            " 78   tb               77836 non-null  float64       \n",
            " 79   aeavol           77836 non-null  float64       \n",
            " 80   cash             77836 non-null  float64       \n",
            " 81   chtx             77836 non-null  float64       \n",
            " 82   cinvest          77836 non-null  float64       \n",
            " 83   ear              77836 non-null  float64       \n",
            " 84   nincr            77836 non-null  float64       \n",
            " 85   roaq             77836 non-null  float64       \n",
            " 86   roavol           77836 non-null  float64       \n",
            " 87   roeq             77836 non-null  float64       \n",
            " 88   rsup             77836 non-null  float64       \n",
            " 89   stdacc           77836 non-null  float64       \n",
            " 90   stdcf            77836 non-null  float64       \n",
            " 91   ms               77836 non-null  float64       \n",
            " 92   baspread         77836 non-null  float64       \n",
            " 93   ill              77836 non-null  float64       \n",
            " 94   maxret           77836 non-null  float64       \n",
            " 95   retvol           77836 non-null  float64       \n",
            " 96   std_dolvol       77836 non-null  float64       \n",
            " 97   std_turn         77836 non-null  float64       \n",
            " 98   zerotrade        77836 non-null  float64       \n",
            " 99   sic2             77836 non-null  float64       \n",
            " 100  bm               77836 non-null  float64       \n",
            " 101  bm_ia            77836 non-null  float64       \n",
            "dtypes: datetime64[ns](1), float64(101)\n",
            "memory usage: 60.6 MB\n"
          ]
        }
      ]
    },
    {
      "cell_type": "code",
      "source": [
        "df=df_0.dropna(axis=0, how='any')\n",
        "\n",
        "df.drop(columns=['Unnamed: 0'], inplace=True)"
      ],
      "metadata": {
        "id": "kFupEfX5m78x"
      },
      "execution_count": 66,
      "outputs": []
    },
    {
      "cell_type": "code",
      "source": [
        "#set DATE as index\n",
        "df.set_index('DATE', inplace=True)\n",
        "df.sort_values('DATE', inplace=True)"
      ],
      "metadata": {
        "id": "pz4VjENCpqrI"
      },
      "execution_count": 67,
      "outputs": []
    },
    {
      "cell_type": "code",
      "source": [
        "df['lead(RET,1)'] = df['RET'].shift(-1)\n",
        "df.drop(columns=['RET'],inplace=True)\n",
        "df.dropna(axis=0, how='any')"
      ],
      "metadata": {
        "colab": {
          "base_uri": "https://localhost:8080/",
          "height": 693
        },
        "id": "Dqk-rWiinZXT",
        "outputId": "17fdb212-46cf-4a94-9738-a92da597c580"
      },
      "execution_count": 68,
      "outputs": [
        {
          "output_type": "execute_result",
          "data": {
            "text/plain": [
              "             permno        mvel1      prc   SHROUT    beta  betasq   chmom  \\\n",
              "DATE                                                                         \n",
              "2010-01-29  86098.0   45513.7500   0.6699  60685.0  0.5189  0.2692 -1.8095   \n",
              "2010-01-29  90605.0  289238.0061  16.8400  15980.0  1.0500  1.1025 -0.0257   \n",
              "2010-01-29  63706.0  283082.7930  30.5700   9191.0  0.9752  0.9509 -0.6351   \n",
              "2010-01-29  38746.0   82145.1989  13.7000   5996.0  1.3773  1.8970  0.8894   \n",
              "2010-01-29  89898.0   83790.6580   1.4300  63428.0  0.8979  0.8063  0.3844   \n",
              "...             ...          ...      ...      ...     ...     ...     ...   \n",
              "2020-12-31  20123.0  294300.0126  10.3600  30000.0  1.0233  1.0505 -0.0134   \n",
              "2020-12-31  79150.0  537326.9892  45.2600  14215.0  1.1219  1.2586  0.5472   \n",
              "2020-12-31  17444.0   30115.7999  13.2800   2145.0  1.8580  3.4522  0.5637   \n",
              "2020-12-31  16866.0   28145.6996   3.6400   8529.0  1.0856  1.1785  0.4023   \n",
              "2020-12-31  81084.0   57169.7614   1.0900  42664.0  1.0940  1.1968  0.2074   \n",
              "\n",
              "             dolvol  idiovol  indmom  ...         ill  maxret  retvol  \\\n",
              "DATE                                  ...                               \n",
              "2010-01-29   9.3795   0.1002  0.6411  ...  6.4700e-07  0.0789  0.0309   \n",
              "2010-01-29  11.2450   0.0797  0.0841  ...  3.8500e-08  0.0899  0.0261   \n",
              "2010-01-29  11.2540   0.0463  0.3997  ...  2.7900e-08  0.0109  0.0119   \n",
              "2010-01-29   9.4867   0.0783  0.6636  ...  4.6000e-07  0.0415  0.0157   \n",
              "2010-01-29  10.9682   0.1213  0.1358  ...  7.7000e-08  0.0966  0.0300   \n",
              "...             ...      ...     ...  ...         ...     ...     ...   \n",
              "2020-12-31  13.1705   0.0431 -0.0195  ...  8.3500e-09  0.0143  0.0077   \n",
              "2020-12-31  13.4081   0.0673  0.3322  ...  8.2500e-09  0.0920  0.0407   \n",
              "2020-12-31   8.8356   0.0818  0.3176  ...  1.1500e-05  0.0668  0.0318   \n",
              "2020-12-31   9.0143   0.0718 -0.4328  ...  1.0900e-06  0.1053  0.0464   \n",
              "2020-12-31  10.0068   0.1391  0.0471  ...  9.7400e-08  0.1754  0.0526   \n",
              "\n",
              "            std_dolvol  std_turn   zerotrade  sic2      bm   bm_ia  \\\n",
              "DATE                                                                 \n",
              "2010-01-29      0.8049    0.5787  1.0600e-07  73.0  1.0539  0.1835   \n",
              "2010-01-29      1.1221    2.4186  4.1400e-08  42.0  0.7493 -0.3943   \n",
              "2010-01-29      0.5471    0.7024  8.2600e-08  67.0  0.0003 -1.5171   \n",
              "2010-01-29      1.0795    0.7888  9.3700e-08  65.0  0.5191 -1.5351   \n",
              "2010-01-29      0.5177    2.0774  2.5100e-08  44.0  0.1074 -1.1079   \n",
              "...                ...       ...         ...   ...     ...     ...   \n",
              "2020-12-31      1.6162    2.2928  1.5500e-07  55.0  0.5873 -0.1299   \n",
              "2020-12-31      0.4779    2.8344  1.6400e-08  28.0  0.5873 -0.1299   \n",
              "2020-12-31      1.5229    0.8889  9.9200e-08  36.0  0.5873 -0.1299   \n",
              "2020-12-31      0.6457    0.9351  7.6400e-08  13.0  0.5873 -0.1299   \n",
              "2020-12-31      0.9775    8.4821  1.5500e-08  50.0  0.5873 -0.1299   \n",
              "\n",
              "            lead(RET,1)  \n",
              "DATE                     \n",
              "2010-01-29      -0.0696  \n",
              "2010-01-29      -0.0075  \n",
              "2010-01-29       0.0000  \n",
              "2010-01-29       0.0142  \n",
              "2010-01-29      -0.0436  \n",
              "...                 ...  \n",
              "2020-12-31       0.1974  \n",
              "2020-12-31      -0.0541  \n",
              "2020-12-31       0.1030  \n",
              "2020-12-31      -0.1866  \n",
              "2020-12-31       0.0015  \n",
              "\n",
              "[77835 rows x 100 columns]"
            ],
            "text/html": [
              "\n",
              "  <div id=\"df-9efae8f4-494f-48f6-ae63-813c5c73ff56\">\n",
              "    <div class=\"colab-df-container\">\n",
              "      <div>\n",
              "<style scoped>\n",
              "    .dataframe tbody tr th:only-of-type {\n",
              "        vertical-align: middle;\n",
              "    }\n",
              "\n",
              "    .dataframe tbody tr th {\n",
              "        vertical-align: top;\n",
              "    }\n",
              "\n",
              "    .dataframe thead th {\n",
              "        text-align: right;\n",
              "    }\n",
              "</style>\n",
              "<table border=\"1\" class=\"dataframe\">\n",
              "  <thead>\n",
              "    <tr style=\"text-align: right;\">\n",
              "      <th></th>\n",
              "      <th>permno</th>\n",
              "      <th>mvel1</th>\n",
              "      <th>prc</th>\n",
              "      <th>SHROUT</th>\n",
              "      <th>beta</th>\n",
              "      <th>betasq</th>\n",
              "      <th>chmom</th>\n",
              "      <th>dolvol</th>\n",
              "      <th>idiovol</th>\n",
              "      <th>indmom</th>\n",
              "      <th>...</th>\n",
              "      <th>ill</th>\n",
              "      <th>maxret</th>\n",
              "      <th>retvol</th>\n",
              "      <th>std_dolvol</th>\n",
              "      <th>std_turn</th>\n",
              "      <th>zerotrade</th>\n",
              "      <th>sic2</th>\n",
              "      <th>bm</th>\n",
              "      <th>bm_ia</th>\n",
              "      <th>lead(RET,1)</th>\n",
              "    </tr>\n",
              "    <tr>\n",
              "      <th>DATE</th>\n",
              "      <th></th>\n",
              "      <th></th>\n",
              "      <th></th>\n",
              "      <th></th>\n",
              "      <th></th>\n",
              "      <th></th>\n",
              "      <th></th>\n",
              "      <th></th>\n",
              "      <th></th>\n",
              "      <th></th>\n",
              "      <th></th>\n",
              "      <th></th>\n",
              "      <th></th>\n",
              "      <th></th>\n",
              "      <th></th>\n",
              "      <th></th>\n",
              "      <th></th>\n",
              "      <th></th>\n",
              "      <th></th>\n",
              "      <th></th>\n",
              "      <th></th>\n",
              "    </tr>\n",
              "  </thead>\n",
              "  <tbody>\n",
              "    <tr>\n",
              "      <th>2010-01-29</th>\n",
              "      <td>86098.0</td>\n",
              "      <td>45513.7500</td>\n",
              "      <td>0.6699</td>\n",
              "      <td>60685.0</td>\n",
              "      <td>0.5189</td>\n",
              "      <td>0.2692</td>\n",
              "      <td>-1.8095</td>\n",
              "      <td>9.3795</td>\n",
              "      <td>0.1002</td>\n",
              "      <td>0.6411</td>\n",
              "      <td>...</td>\n",
              "      <td>6.4700e-07</td>\n",
              "      <td>0.0789</td>\n",
              "      <td>0.0309</td>\n",
              "      <td>0.8049</td>\n",
              "      <td>0.5787</td>\n",
              "      <td>1.0600e-07</td>\n",
              "      <td>73.0</td>\n",
              "      <td>1.0539</td>\n",
              "      <td>0.1835</td>\n",
              "      <td>-0.0696</td>\n",
              "    </tr>\n",
              "    <tr>\n",
              "      <th>2010-01-29</th>\n",
              "      <td>90605.0</td>\n",
              "      <td>289238.0061</td>\n",
              "      <td>16.8400</td>\n",
              "      <td>15980.0</td>\n",
              "      <td>1.0500</td>\n",
              "      <td>1.1025</td>\n",
              "      <td>-0.0257</td>\n",
              "      <td>11.2450</td>\n",
              "      <td>0.0797</td>\n",
              "      <td>0.0841</td>\n",
              "      <td>...</td>\n",
              "      <td>3.8500e-08</td>\n",
              "      <td>0.0899</td>\n",
              "      <td>0.0261</td>\n",
              "      <td>1.1221</td>\n",
              "      <td>2.4186</td>\n",
              "      <td>4.1400e-08</td>\n",
              "      <td>42.0</td>\n",
              "      <td>0.7493</td>\n",
              "      <td>-0.3943</td>\n",
              "      <td>-0.0075</td>\n",
              "    </tr>\n",
              "    <tr>\n",
              "      <th>2010-01-29</th>\n",
              "      <td>63706.0</td>\n",
              "      <td>283082.7930</td>\n",
              "      <td>30.5700</td>\n",
              "      <td>9191.0</td>\n",
              "      <td>0.9752</td>\n",
              "      <td>0.9509</td>\n",
              "      <td>-0.6351</td>\n",
              "      <td>11.2540</td>\n",
              "      <td>0.0463</td>\n",
              "      <td>0.3997</td>\n",
              "      <td>...</td>\n",
              "      <td>2.7900e-08</td>\n",
              "      <td>0.0109</td>\n",
              "      <td>0.0119</td>\n",
              "      <td>0.5471</td>\n",
              "      <td>0.7024</td>\n",
              "      <td>8.2600e-08</td>\n",
              "      <td>67.0</td>\n",
              "      <td>0.0003</td>\n",
              "      <td>-1.5171</td>\n",
              "      <td>0.0000</td>\n",
              "    </tr>\n",
              "    <tr>\n",
              "      <th>2010-01-29</th>\n",
              "      <td>38746.0</td>\n",
              "      <td>82145.1989</td>\n",
              "      <td>13.7000</td>\n",
              "      <td>5996.0</td>\n",
              "      <td>1.3773</td>\n",
              "      <td>1.8970</td>\n",
              "      <td>0.8894</td>\n",
              "      <td>9.4867</td>\n",
              "      <td>0.0783</td>\n",
              "      <td>0.6636</td>\n",
              "      <td>...</td>\n",
              "      <td>4.6000e-07</td>\n",
              "      <td>0.0415</td>\n",
              "      <td>0.0157</td>\n",
              "      <td>1.0795</td>\n",
              "      <td>0.7888</td>\n",
              "      <td>9.3700e-08</td>\n",
              "      <td>65.0</td>\n",
              "      <td>0.5191</td>\n",
              "      <td>-1.5351</td>\n",
              "      <td>0.0142</td>\n",
              "    </tr>\n",
              "    <tr>\n",
              "      <th>2010-01-29</th>\n",
              "      <td>89898.0</td>\n",
              "      <td>83790.6580</td>\n",
              "      <td>1.4300</td>\n",
              "      <td>63428.0</td>\n",
              "      <td>0.8979</td>\n",
              "      <td>0.8063</td>\n",
              "      <td>0.3844</td>\n",
              "      <td>10.9682</td>\n",
              "      <td>0.1213</td>\n",
              "      <td>0.1358</td>\n",
              "      <td>...</td>\n",
              "      <td>7.7000e-08</td>\n",
              "      <td>0.0966</td>\n",
              "      <td>0.0300</td>\n",
              "      <td>0.5177</td>\n",
              "      <td>2.0774</td>\n",
              "      <td>2.5100e-08</td>\n",
              "      <td>44.0</td>\n",
              "      <td>0.1074</td>\n",
              "      <td>-1.1079</td>\n",
              "      <td>-0.0436</td>\n",
              "    </tr>\n",
              "    <tr>\n",
              "      <th>...</th>\n",
              "      <td>...</td>\n",
              "      <td>...</td>\n",
              "      <td>...</td>\n",
              "      <td>...</td>\n",
              "      <td>...</td>\n",
              "      <td>...</td>\n",
              "      <td>...</td>\n",
              "      <td>...</td>\n",
              "      <td>...</td>\n",
              "      <td>...</td>\n",
              "      <td>...</td>\n",
              "      <td>...</td>\n",
              "      <td>...</td>\n",
              "      <td>...</td>\n",
              "      <td>...</td>\n",
              "      <td>...</td>\n",
              "      <td>...</td>\n",
              "      <td>...</td>\n",
              "      <td>...</td>\n",
              "      <td>...</td>\n",
              "      <td>...</td>\n",
              "    </tr>\n",
              "    <tr>\n",
              "      <th>2020-12-31</th>\n",
              "      <td>20123.0</td>\n",
              "      <td>294300.0126</td>\n",
              "      <td>10.3600</td>\n",
              "      <td>30000.0</td>\n",
              "      <td>1.0233</td>\n",
              "      <td>1.0505</td>\n",
              "      <td>-0.0134</td>\n",
              "      <td>13.1705</td>\n",
              "      <td>0.0431</td>\n",
              "      <td>-0.0195</td>\n",
              "      <td>...</td>\n",
              "      <td>8.3500e-09</td>\n",
              "      <td>0.0143</td>\n",
              "      <td>0.0077</td>\n",
              "      <td>1.6162</td>\n",
              "      <td>2.2928</td>\n",
              "      <td>1.5500e-07</td>\n",
              "      <td>55.0</td>\n",
              "      <td>0.5873</td>\n",
              "      <td>-0.1299</td>\n",
              "      <td>0.1974</td>\n",
              "    </tr>\n",
              "    <tr>\n",
              "      <th>2020-12-31</th>\n",
              "      <td>79150.0</td>\n",
              "      <td>537326.9892</td>\n",
              "      <td>45.2600</td>\n",
              "      <td>14215.0</td>\n",
              "      <td>1.1219</td>\n",
              "      <td>1.2586</td>\n",
              "      <td>0.5472</td>\n",
              "      <td>13.4081</td>\n",
              "      <td>0.0673</td>\n",
              "      <td>0.3322</td>\n",
              "      <td>...</td>\n",
              "      <td>8.2500e-09</td>\n",
              "      <td>0.0920</td>\n",
              "      <td>0.0407</td>\n",
              "      <td>0.4779</td>\n",
              "      <td>2.8344</td>\n",
              "      <td>1.6400e-08</td>\n",
              "      <td>28.0</td>\n",
              "      <td>0.5873</td>\n",
              "      <td>-0.1299</td>\n",
              "      <td>-0.0541</td>\n",
              "    </tr>\n",
              "    <tr>\n",
              "      <th>2020-12-31</th>\n",
              "      <td>17444.0</td>\n",
              "      <td>30115.7999</td>\n",
              "      <td>13.2800</td>\n",
              "      <td>2145.0</td>\n",
              "      <td>1.8580</td>\n",
              "      <td>3.4522</td>\n",
              "      <td>0.5637</td>\n",
              "      <td>8.8356</td>\n",
              "      <td>0.0818</td>\n",
              "      <td>0.3176</td>\n",
              "      <td>...</td>\n",
              "      <td>1.1500e-05</td>\n",
              "      <td>0.0668</td>\n",
              "      <td>0.0318</td>\n",
              "      <td>1.5229</td>\n",
              "      <td>0.8889</td>\n",
              "      <td>9.9200e-08</td>\n",
              "      <td>36.0</td>\n",
              "      <td>0.5873</td>\n",
              "      <td>-0.1299</td>\n",
              "      <td>0.1030</td>\n",
              "    </tr>\n",
              "    <tr>\n",
              "      <th>2020-12-31</th>\n",
              "      <td>16866.0</td>\n",
              "      <td>28145.6996</td>\n",
              "      <td>3.6400</td>\n",
              "      <td>8529.0</td>\n",
              "      <td>1.0856</td>\n",
              "      <td>1.1785</td>\n",
              "      <td>0.4023</td>\n",
              "      <td>9.0143</td>\n",
              "      <td>0.0718</td>\n",
              "      <td>-0.4328</td>\n",
              "      <td>...</td>\n",
              "      <td>1.0900e-06</td>\n",
              "      <td>0.1053</td>\n",
              "      <td>0.0464</td>\n",
              "      <td>0.6457</td>\n",
              "      <td>0.9351</td>\n",
              "      <td>7.6400e-08</td>\n",
              "      <td>13.0</td>\n",
              "      <td>0.5873</td>\n",
              "      <td>-0.1299</td>\n",
              "      <td>-0.1866</td>\n",
              "    </tr>\n",
              "    <tr>\n",
              "      <th>2020-12-31</th>\n",
              "      <td>81084.0</td>\n",
              "      <td>57169.7614</td>\n",
              "      <td>1.0900</td>\n",
              "      <td>42664.0</td>\n",
              "      <td>1.0940</td>\n",
              "      <td>1.1968</td>\n",
              "      <td>0.2074</td>\n",
              "      <td>10.0068</td>\n",
              "      <td>0.1391</td>\n",
              "      <td>0.0471</td>\n",
              "      <td>...</td>\n",
              "      <td>9.7400e-08</td>\n",
              "      <td>0.1754</td>\n",
              "      <td>0.0526</td>\n",
              "      <td>0.9775</td>\n",
              "      <td>8.4821</td>\n",
              "      <td>1.5500e-08</td>\n",
              "      <td>50.0</td>\n",
              "      <td>0.5873</td>\n",
              "      <td>-0.1299</td>\n",
              "      <td>0.0015</td>\n",
              "    </tr>\n",
              "  </tbody>\n",
              "</table>\n",
              "<p>77835 rows × 100 columns</p>\n",
              "</div>\n",
              "      <button class=\"colab-df-convert\" onclick=\"convertToInteractive('df-9efae8f4-494f-48f6-ae63-813c5c73ff56')\"\n",
              "              title=\"Convert this dataframe to an interactive table.\"\n",
              "              style=\"display:none;\">\n",
              "        \n",
              "  <svg xmlns=\"http://www.w3.org/2000/svg\" height=\"24px\"viewBox=\"0 0 24 24\"\n",
              "       width=\"24px\">\n",
              "    <path d=\"M0 0h24v24H0V0z\" fill=\"none\"/>\n",
              "    <path d=\"M18.56 5.44l.94 2.06.94-2.06 2.06-.94-2.06-.94-.94-2.06-.94 2.06-2.06.94zm-11 1L8.5 8.5l.94-2.06 2.06-.94-2.06-.94L8.5 2.5l-.94 2.06-2.06.94zm10 10l.94 2.06.94-2.06 2.06-.94-2.06-.94-.94-2.06-.94 2.06-2.06.94z\"/><path d=\"M17.41 7.96l-1.37-1.37c-.4-.4-.92-.59-1.43-.59-.52 0-1.04.2-1.43.59L10.3 9.45l-7.72 7.72c-.78.78-.78 2.05 0 2.83L4 21.41c.39.39.9.59 1.41.59.51 0 1.02-.2 1.41-.59l7.78-7.78 2.81-2.81c.8-.78.8-2.07 0-2.86zM5.41 20L4 18.59l7.72-7.72 1.47 1.35L5.41 20z\"/>\n",
              "  </svg>\n",
              "      </button>\n",
              "      \n",
              "  <style>\n",
              "    .colab-df-container {\n",
              "      display:flex;\n",
              "      flex-wrap:wrap;\n",
              "      gap: 12px;\n",
              "    }\n",
              "\n",
              "    .colab-df-convert {\n",
              "      background-color: #E8F0FE;\n",
              "      border: none;\n",
              "      border-radius: 50%;\n",
              "      cursor: pointer;\n",
              "      display: none;\n",
              "      fill: #1967D2;\n",
              "      height: 32px;\n",
              "      padding: 0 0 0 0;\n",
              "      width: 32px;\n",
              "    }\n",
              "\n",
              "    .colab-df-convert:hover {\n",
              "      background-color: #E2EBFA;\n",
              "      box-shadow: 0px 1px 2px rgba(60, 64, 67, 0.3), 0px 1px 3px 1px rgba(60, 64, 67, 0.15);\n",
              "      fill: #174EA6;\n",
              "    }\n",
              "\n",
              "    [theme=dark] .colab-df-convert {\n",
              "      background-color: #3B4455;\n",
              "      fill: #D2E3FC;\n",
              "    }\n",
              "\n",
              "    [theme=dark] .colab-df-convert:hover {\n",
              "      background-color: #434B5C;\n",
              "      box-shadow: 0px 1px 3px 1px rgba(0, 0, 0, 0.15);\n",
              "      filter: drop-shadow(0px 1px 2px rgba(0, 0, 0, 0.3));\n",
              "      fill: #FFFFFF;\n",
              "    }\n",
              "  </style>\n",
              "\n",
              "      <script>\n",
              "        const buttonEl =\n",
              "          document.querySelector('#df-9efae8f4-494f-48f6-ae63-813c5c73ff56 button.colab-df-convert');\n",
              "        buttonEl.style.display =\n",
              "          google.colab.kernel.accessAllowed ? 'block' : 'none';\n",
              "\n",
              "        async function convertToInteractive(key) {\n",
              "          const element = document.querySelector('#df-9efae8f4-494f-48f6-ae63-813c5c73ff56');\n",
              "          const dataTable =\n",
              "            await google.colab.kernel.invokeFunction('convertToInteractive',\n",
              "                                                     [key], {});\n",
              "          if (!dataTable) return;\n",
              "\n",
              "          const docLinkHtml = 'Like what you see? Visit the ' +\n",
              "            '<a target=\"_blank\" href=https://colab.research.google.com/notebooks/data_table.ipynb>data table notebook</a>'\n",
              "            + ' to learn more about interactive tables.';\n",
              "          element.innerHTML = '';\n",
              "          dataTable['output_type'] = 'display_data';\n",
              "          await google.colab.output.renderOutput(dataTable, element);\n",
              "          const docLink = document.createElement('div');\n",
              "          docLink.innerHTML = docLinkHtml;\n",
              "          element.appendChild(docLink);\n",
              "        }\n",
              "      </script>\n",
              "    </div>\n",
              "  </div>\n",
              "  "
            ]
          },
          "metadata": {},
          "execution_count": 68
        }
      ]
    },
    {
      "cell_type": "code",
      "source": [
        "df = df.replace([np.inf, -np.inf], np.nan)\n",
        "df = df.dropna()"
      ],
      "metadata": {
        "id": "eo2nOYAUrqKD"
      },
      "execution_count": 69,
      "outputs": []
    },
    {
      "cell_type": "code",
      "source": [
        "X_train, X_test, y_train, y_test = train_test_split(\n",
        "      df.drop(['lead(RET,1)'], axis=1),\n",
        "      df.loc[:,['lead(RET,1)']],\n",
        "      test_size=0.3, shuffle=False)\n",
        "\n",
        "X_train.shape, y_train.shape, X_test.shape, y_test.shape"
      ],
      "metadata": {
        "colab": {
          "base_uri": "https://localhost:8080/"
        },
        "id": "ifAQbMHDn_O9",
        "outputId": "fd6a8f0e-ac34-4f02-a7a0-aa711f40175e"
      },
      "execution_count": 70,
      "outputs": [
        {
          "output_type": "execute_result",
          "data": {
            "text/plain": [
              "((54484, 99), (54484, 1), (23351, 99), (23351, 1))"
            ]
          },
          "metadata": {},
          "execution_count": 70
        }
      ]
    },
    {
      "cell_type": "code",
      "source": [
        "model_lin = LinearRegression()"
      ],
      "metadata": {
        "id": "eiSbXDJjodA5"
      },
      "execution_count": 71,
      "outputs": []
    },
    {
      "cell_type": "code",
      "source": [
        "%time model_lin.fit(X_train, y_train)"
      ],
      "metadata": {
        "colab": {
          "base_uri": "https://localhost:8080/"
        },
        "id": "GsoIpnxTohGt",
        "outputId": "fb811f07-498b-4136-8b2f-c4f83c85d055"
      },
      "execution_count": 72,
      "outputs": [
        {
          "output_type": "stream",
          "name": "stdout",
          "text": [
            "CPU times: user 758 ms, sys: 51.4 ms, total: 810 ms\n",
            "Wall time: 462 ms\n"
          ]
        },
        {
          "output_type": "execute_result",
          "data": {
            "text/plain": [
              "LinearRegression()"
            ]
          },
          "metadata": {},
          "execution_count": 72
        }
      ]
    },
    {
      "cell_type": "code",
      "source": [
        "### COMPUTE STOCHASTIC DROPOUT ###\n",
        "%%time\n",
        "#mse\n",
        "msescores = []\n",
        "for i in tqdm.tqdm(range(0,50)):\n",
        "    msescores.append(mean_squared_error(y_test, model_lin.predict(X_test).ravel()))\n",
        "\n",
        "#mae\n",
        "maescores = []\n",
        "for i in tqdm.tqdm(range(0,50)):\n",
        "    maescores.append(mean_absolute_error(y_test, model_lin.predict(X_test).ravel()))"
      ],
      "metadata": {
        "colab": {
          "base_uri": "https://localhost:8080/"
        },
        "id": "ITdz-2kQp4j1",
        "outputId": "13a4312a-b3dc-4bf9-ca19-191967e04dcc"
      },
      "execution_count": 76,
      "outputs": [
        {
          "output_type": "stream",
          "name": "stderr",
          "text": [
            "100%|██████████| 50/50 [00:00<00:00, 101.01it/s]\n",
            "100%|██████████| 50/50 [00:00<00:00, 103.14it/s]"
          ]
        },
        {
          "output_type": "stream",
          "name": "stdout",
          "text": [
            "CPU times: user 1.16 s, sys: 667 ms, total: 1.82 s\n",
            "Wall time: 1 s\n"
          ]
        },
        {
          "output_type": "stream",
          "name": "stderr",
          "text": [
            "\n"
          ]
        }
      ]
    },
    {
      "cell_type": "code",
      "source": [
        "print(np.mean(msescores), np.std(msescores),np.mean(maescores), np.std(maescores))"
      ],
      "metadata": {
        "colab": {
          "base_uri": "https://localhost:8080/"
        },
        "id": "KYvOWBIBsSUU",
        "outputId": "ca144dbd-34f0-47dc-bc58-0313865ce9de"
      },
      "execution_count": 75,
      "outputs": [
        {
          "output_type": "stream",
          "name": "stdout",
          "text": [
            "0.033583998177776214 6.938893903907228e-18 0.10290062634000736 1.3877787807814457e-17\n"
          ]
        }
      ]
    },
    {
      "cell_type": "markdown",
      "source": [
        "# **interview questions**"
      ],
      "metadata": {
        "id": "WIBYvRE5x2PN"
      }
    },
    {
      "cell_type": "markdown",
      "source": [
        "**What is linear regression?**\n",
        "  \n",
        "In simple terms, linear regression is a method of finding the best straight line fitting to the given data, i.e. finding the best linear relationship between the independent and dependent variables.\n",
        "\n",
        "In technical terms, linear regression is a machine learning algorithm that finds the best linear-fit relationship on any given data, between independent and dependent variables. It is mostly done by the Sum of Squared Residuals Method.\n",
        "\n",
        "线性回归是一种机器学习方法，用于对被解释变量与一个或多个解释变量之间的关系进行建模。\n",
        "\n",
        "\n"
      ],
      "metadata": {
        "id": "t5j4MRcVx6XZ"
      }
    },
    {
      "cell_type": "markdown",
      "source": [
        "**What are the assumptions of Linear regression?**\n",
        "* linear relationship\n",
        "解释变量与被解释变量之间需要成线性关系，可以用散点图检查\n",
        "* No auto-correlation or independence 残差之间彼此独立，可以用Durbin-Watson (DW)检验，DW=2则彼此独立，可以考虑增加滞后项解决此问题\n",
        "* Restricted Multi-collinearity value 没有多重共线性，可以通过协方差矩阵，协方差热力图检查\n",
        "* Homoscedasticity 同方差性，残差的方差为常数，可以通过画残差与拟合值的散点图检查\n",
        "* Normal distribution of error terms 误差项是正态分布，可以通过Q-Q plot 检查，如果成一条直线，则说明他们是正态分布"
      ],
      "metadata": {
        "id": "opkHFkBQ3N1l"
      }
    },
    {
      "cell_type": "markdown",
      "source": [
        "**What is R square and what are the difference between R square and R adjuested square?**\n",
        "\n",
        "R-squared or R2 is a  value in which your input variables explain the variation of your output / predicted variable. So, if R-square is 0.8, it means 80% of the variation in the output variable is explained by the input variables. So, in simple terms, higher the R squared, the more variation is explained by your input variables and hence better is your model.\n",
        "\n",
        "However, the problem with R-squared is that it will either stay the same or increase with addition of more variables, even if they do not have any relationship with the output variables. This is where “Adjusted R square” comes to help. Adjusted R-square penalizes you for adding variables which do not improve your existing model.\n",
        "\n",
        "Hence, if you are building Linear regression on multiple variable, it is always suggested that you use Adjusted R-squared to judge goodness of model. In case you only have one input variable, R-square and Adjusted R squared would be exactly same.\n",
        "\n",
        "Typically, the more non-significant variables you add into the model, the gap in R-squared and Adjusted R-squared increases.\n",
        "\n",
        "R2 代表自变量对因变量的变化的影响程度。如果R2 为0.8，则说明因变量变化的80%由自变量影响。R2越大说明模型越优秀，但是R2会随着自变量数量增加而增大，调整后R2可以解决这一问题。调整后R2只考虑显著的自变量对因变量的影响。"
      ],
      "metadata": {
        "id": "FaIcKxaQ3PMv"
      }
    },
    {
      "cell_type": "markdown",
      "source": [
        "**Can we use linear regression for time series analysis?**\n",
        "\n",
        "One can use linear regression for time series analysis, but the results are not promising. So, it is generally not advisable to do so. The reasons behind this are.\n",
        "\n",
        "* Time series data is mostly used for the prediction of the future, but linear regression seldom gives good results for future prediction as it is not meant for extrapolation.\n",
        "* Mostly, time series data have a pattern, such as during peak hours, festive seasons, etc., which would most likely be treated as outliers in the linear regression analysis\n",
        "\n",
        "可以但是最好不要，因为线性回归不用于外推，除此以外时间序列的数据可能具有季节性的波动，会被视为异常值"
      ],
      "metadata": {
        "id": "WQ6a4HET3PJ8"
      }
    },
    {
      "cell_type": "markdown",
      "source": [
        "**What is VIF? How do you calculate it?**\n",
        "\n",
        "Variance Inflation Factor (VIF) is used to check the presence of multicollinearity in a data set. It is calculated as\n",
        "\n",
        "![image.png](data:image/png;base64,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)\n",
        "\n",
        "Here, VIFj  is the value of VIF for the jth variable, Rj2 is the R2 value of the model when that variable is regressed against all the other independent variables.\n",
        "\n",
        "If the value of VIF is high for a variable, it implies that the R2  value of the corresponding model is high, i.e. other independent variables are able to explain that variable. In simple terms, the variable is linearly dependent on some other variables.\n",
        "\n",
        "VIF 可以用于检验是否存在多重共线性，一般要求VIF小于10"
      ],
      "metadata": {
        "id": "2veVKvUV3PHl"
      }
    },
    {
      "cell_type": "markdown",
      "source": [
        "**How to measure the accuracy of a linear regression model?**\n",
        "\n",
        "We can use MSE and RMSE to measure\n",
        "\n",
        "![image.png](data:image/png;base64,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)\n",
        "\n",
        "![image.png](data:image/png;base64,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)\n",
        "\n"
      ],
      "metadata": {
        "id": "I6YvpC213PFN"
      }
    },
    {
      "cell_type": "markdown",
      "source": [
        "**What are the disadvantages of the linear model?**\n",
        "Linear regression is sensitive to outliers which may affect the result.\n",
        "\n",
        "– Over-fitting： 在训练集上的误差很小，但是在测试集中的误差很大，可以通过观察学习曲线\n",
        "\n",
        "– Under-fitting\n",
        "\n",
        "对异常值很敏感，可能出现过拟合或欠拟合的问题"
      ],
      "metadata": {
        "id": "s6pOV_tZ3PCP"
      }
    }
  ]
}